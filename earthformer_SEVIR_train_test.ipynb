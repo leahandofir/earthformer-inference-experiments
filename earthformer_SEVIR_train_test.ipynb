{
  "nbformat": 4,
  "nbformat_minor": 0,
  "metadata": {
    "colab": {
      "provenance": [],
      "machine_shape": "hm",
      "gpuType": "A100",
      "authorship_tag": "ABX9TyOoCiARO0CMQIY1RQGYZsK1",
      "include_colab_link": true
    },
    "kernelspec": {
      "name": "python3",
      "display_name": "Python 3"
    },
    "language_info": {
      "name": "python"
    },
    "gpuClass": "standard",
    "accelerator": "GPU"
  },
  "cells": [
    {
      "cell_type": "markdown",
      "metadata": {
        "id": "view-in-github",
        "colab_type": "text"
      },
      "source": [
        "<a href=\"https://colab.research.google.com/github/leahandofir/earthformer-inference-experiments/blob/main/earthformer_SEVIR_train_test.ipynb\" target=\"_parent\"><img src=\"https://colab.research.google.com/assets/colab-badge.svg\" alt=\"Open In Colab\"/></a>"
      ]
    },
    {
      "cell_type": "markdown",
      "source": [
        "Trying to run the training code on a small dataset (https://github.com/amazon-science/earth-forecasting-transformer/tree/main/scripts/cuboid_transformer/sevir)"
      ],
      "metadata": {
        "id": "RVAMqqlGcy-2"
      }
    },
    {
      "cell_type": "markdown",
      "source": [
        "Install dependecies"
      ],
      "metadata": {
        "id": "zFPXvZfWcy9A"
      }
    },
    {
      "cell_type": "code",
      "source": [
        "# install CUDA 11.6.2 https://stackoverflow.com/questions/50560395/how-to-install-cuda-in-google-colab-gpus\n",
        "!wget https://developer.download.nvidia.com/compute/cuda/repos/ubuntu2004/x86_64/cuda-ubuntu2004.pin\n",
        "!mv cuda-ubuntu2004.pin /etc/apt/preferences.d/cuda-repository-pin-600\n",
        "!wget https://developer.download.nvidia.com/compute/cuda/11.6.2/local_installers/cuda-repo-ubuntu2004-11-6-local_11.6.2-510.47.03-1_amd64.deb\n",
        "!dpkg -i cuda-repo-ubuntu2004-11-6-local_11.6.2-510.47.0-1_amd64.deb\n",
        "!apt-key add /var/cuda-repo-ubuntu2004-11-6-local/7fa2af80.pub\n",
        "!apt-get update\n",
        "!apt-get -y install cuda-11-6"
      ],
      "metadata": {
        "id": "p4fI_Mfon_WS"
      },
      "execution_count": null,
      "outputs": []
    },
    {
      "cell_type": "code",
      "source": [
        "# symlink to be the current CUDA\n",
        "!rm /usr/local/cuda\n",
        "!ln -s /usr/local/cuda-11.6 /usr/local/cuda"
      ],
      "metadata": {
        "id": "92rxYW2PoEmS"
      },
      "execution_count": 23,
      "outputs": []
    },
    {
      "cell_type": "code",
      "source": [
        "!nvcc --version"
      ],
      "metadata": {
        "id": "T0k1i5YwoGcA"
      },
      "execution_count": null,
      "outputs": []
    },
    {
      "cell_type": "code",
      "source": [
        "%%shell\n",
        "# install dependencies\n",
        "pip install --upgrade pip\n",
        "pip install torch==1.12.1+cu116 torchvision==0.13.1+cu116 torchaudio==0.12.1 torchtext==0.13.1 torchdata==0.4.1 --extra-index-url https://download.pytorch.org/whl/cu116\n",
        "python3 -m pip install \"pytorch_lightning>=1.6.4,<1.8.0\"\n",
        "python3 -m pip install xarray netcdf4 opencv-python\n",
        "git clone https://github.com/amazon-science/earth-forecasting-transformer.git\n",
        "cd earth-forecasting-transformer\n",
        "python3 -m pip install -U -e . --no-build-isolation\n",
        "pip install -v --disable-pip-version-check --no-cache-dir pytorch-extension git+https://github.com/NVIDIA/apex.git"
      ],
      "metadata": {
        "colab": {
          "base_uri": "https://localhost:8080/"
        },
        "id": "njSUQIKnoOsO",
        "outputId": "b8674e06-4c54-4d1d-f75b-9d0f626c2249"
      },
      "execution_count": 24,
      "outputs": [
        {
          "output_type": "stream",
          "name": "stdout",
          "text": [
            "Looking in indexes: https://pypi.org/simple, https://us-python.pkg.dev/colab-wheels/public/simple/\n",
            "Requirement already satisfied: pip in /usr/local/lib/python3.10/dist-packages (23.1.2)\n",
            "Looking in indexes: https://pypi.org/simple, https://us-python.pkg.dev/colab-wheels/public/simple/, https://download.pytorch.org/whl/cu116\n",
            "Requirement already satisfied: torch==1.12.1+cu116 in /usr/local/lib/python3.10/dist-packages (1.12.1+cu116)\n",
            "Requirement already satisfied: torchvision==0.13.1+cu116 in /usr/local/lib/python3.10/dist-packages (0.13.1+cu116)\n",
            "Requirement already satisfied: torchaudio==0.12.1 in /usr/local/lib/python3.10/dist-packages (0.12.1+cu116)\n",
            "Requirement already satisfied: torchtext==0.13.1 in /usr/local/lib/python3.10/dist-packages (0.13.1)\n",
            "Requirement already satisfied: torchdata==0.4.1 in /usr/local/lib/python3.10/dist-packages (0.4.1)\n",
            "Requirement already satisfied: typing-extensions in /usr/local/lib/python3.10/dist-packages (from torch==1.12.1+cu116) (4.5.0)\n",
            "Requirement already satisfied: numpy in /usr/local/lib/python3.10/dist-packages (from torchvision==0.13.1+cu116) (1.22.4)\n",
            "Requirement already satisfied: requests in /usr/local/lib/python3.10/dist-packages (from torchvision==0.13.1+cu116) (2.27.1)\n",
            "Requirement already satisfied: pillow!=8.3.*,>=5.3.0 in /usr/local/lib/python3.10/dist-packages (from torchvision==0.13.1+cu116) (8.4.0)\n",
            "Requirement already satisfied: tqdm in /usr/local/lib/python3.10/dist-packages (from torchtext==0.13.1) (4.65.0)\n",
            "Requirement already satisfied: urllib3>=1.25 in /usr/local/lib/python3.10/dist-packages (from torchdata==0.4.1) (1.26.15)\n",
            "Requirement already satisfied: portalocker>=2.0.0 in /usr/local/lib/python3.10/dist-packages (from torchdata==0.4.1) (2.7.0)\n",
            "Requirement already satisfied: certifi>=2017.4.17 in /usr/local/lib/python3.10/dist-packages (from requests->torchvision==0.13.1+cu116) (2022.12.7)\n",
            "Requirement already satisfied: charset-normalizer~=2.0.0 in /usr/local/lib/python3.10/dist-packages (from requests->torchvision==0.13.1+cu116) (2.0.12)\n",
            "Requirement already satisfied: idna<4,>=2.5 in /usr/local/lib/python3.10/dist-packages (from requests->torchvision==0.13.1+cu116) (3.4)\n",
            "Looking in indexes: https://pypi.org/simple, https://us-python.pkg.dev/colab-wheels/public/simple/\n",
            "Requirement already satisfied: pytorch_lightning<1.8.0,>=1.6.4 in /usr/local/lib/python3.10/dist-packages (1.7.7)\n",
            "Requirement already satisfied: numpy>=1.17.2 in /usr/local/lib/python3.10/dist-packages (from pytorch_lightning<1.8.0,>=1.6.4) (1.22.4)\n",
            "Requirement already satisfied: torch>=1.9.* in /usr/local/lib/python3.10/dist-packages (from pytorch_lightning<1.8.0,>=1.6.4) (1.12.1+cu116)\n",
            "Requirement already satisfied: tqdm>=4.57.0 in /usr/local/lib/python3.10/dist-packages (from pytorch_lightning<1.8.0,>=1.6.4) (4.65.0)\n",
            "Requirement already satisfied: PyYAML>=5.4 in /usr/local/lib/python3.10/dist-packages (from pytorch_lightning<1.8.0,>=1.6.4) (5.4.1)\n",
            "Requirement already satisfied: fsspec[http]!=2021.06.0,>=2021.05.0 in /usr/local/lib/python3.10/dist-packages (from pytorch_lightning<1.8.0,>=1.6.4) (2023.4.0)\n",
            "Requirement already satisfied: tensorboard>=2.9.1 in /usr/local/lib/python3.10/dist-packages (from pytorch_lightning<1.8.0,>=1.6.4) (2.12.2)\n",
            "Requirement already satisfied: torchmetrics>=0.7.0 in /usr/local/lib/python3.10/dist-packages (from pytorch_lightning<1.8.0,>=1.6.4) (0.11.4)\n",
            "Requirement already satisfied: pyDeprecate>=0.3.1 in /usr/local/lib/python3.10/dist-packages (from pytorch_lightning<1.8.0,>=1.6.4) (0.3.2)\n",
            "Requirement already satisfied: packaging>=17.0 in /usr/local/lib/python3.10/dist-packages (from pytorch_lightning<1.8.0,>=1.6.4) (23.1)\n",
            "Requirement already satisfied: typing-extensions>=4.0.0 in /usr/local/lib/python3.10/dist-packages (from pytorch_lightning<1.8.0,>=1.6.4) (4.5.0)\n",
            "Requirement already satisfied: requests in /usr/local/lib/python3.10/dist-packages (from fsspec[http]!=2021.06.0,>=2021.05.0->pytorch_lightning<1.8.0,>=1.6.4) (2.27.1)\n",
            "Requirement already satisfied: aiohttp!=4.0.0a0,!=4.0.0a1 in /usr/local/lib/python3.10/dist-packages (from fsspec[http]!=2021.06.0,>=2021.05.0->pytorch_lightning<1.8.0,>=1.6.4) (3.8.4)\n",
            "Requirement already satisfied: absl-py>=0.4 in /usr/local/lib/python3.10/dist-packages (from tensorboard>=2.9.1->pytorch_lightning<1.8.0,>=1.6.4) (1.4.0)\n",
            "Requirement already satisfied: grpcio>=1.48.2 in /usr/local/lib/python3.10/dist-packages (from tensorboard>=2.9.1->pytorch_lightning<1.8.0,>=1.6.4) (1.54.0)\n",
            "Requirement already satisfied: google-auth<3,>=1.6.3 in /usr/local/lib/python3.10/dist-packages (from tensorboard>=2.9.1->pytorch_lightning<1.8.0,>=1.6.4) (2.17.3)\n",
            "Requirement already satisfied: google-auth-oauthlib<1.1,>=0.5 in /usr/local/lib/python3.10/dist-packages (from tensorboard>=2.9.1->pytorch_lightning<1.8.0,>=1.6.4) (1.0.0)\n",
            "Requirement already satisfied: markdown>=2.6.8 in /usr/local/lib/python3.10/dist-packages (from tensorboard>=2.9.1->pytorch_lightning<1.8.0,>=1.6.4) (3.4.3)\n",
            "Requirement already satisfied: protobuf>=3.19.6 in /usr/local/lib/python3.10/dist-packages (from tensorboard>=2.9.1->pytorch_lightning<1.8.0,>=1.6.4) (3.20.3)\n",
            "Requirement already satisfied: setuptools>=41.0.0 in /usr/local/lib/python3.10/dist-packages (from tensorboard>=2.9.1->pytorch_lightning<1.8.0,>=1.6.4) (67.7.2)\n",
            "Requirement already satisfied: tensorboard-data-server<0.8.0,>=0.7.0 in /usr/local/lib/python3.10/dist-packages (from tensorboard>=2.9.1->pytorch_lightning<1.8.0,>=1.6.4) (0.7.0)\n",
            "Requirement already satisfied: tensorboard-plugin-wit>=1.6.0 in /usr/local/lib/python3.10/dist-packages (from tensorboard>=2.9.1->pytorch_lightning<1.8.0,>=1.6.4) (1.8.1)\n",
            "Requirement already satisfied: werkzeug>=1.0.1 in /usr/local/lib/python3.10/dist-packages (from tensorboard>=2.9.1->pytorch_lightning<1.8.0,>=1.6.4) (2.3.0)\n",
            "Requirement already satisfied: wheel>=0.26 in /usr/local/lib/python3.10/dist-packages (from tensorboard>=2.9.1->pytorch_lightning<1.8.0,>=1.6.4) (0.40.0)\n",
            "Requirement already satisfied: attrs>=17.3.0 in /usr/local/lib/python3.10/dist-packages (from aiohttp!=4.0.0a0,!=4.0.0a1->fsspec[http]!=2021.06.0,>=2021.05.0->pytorch_lightning<1.8.0,>=1.6.4) (23.1.0)\n",
            "Requirement already satisfied: charset-normalizer<4.0,>=2.0 in /usr/local/lib/python3.10/dist-packages (from aiohttp!=4.0.0a0,!=4.0.0a1->fsspec[http]!=2021.06.0,>=2021.05.0->pytorch_lightning<1.8.0,>=1.6.4) (2.0.12)\n",
            "Requirement already satisfied: multidict<7.0,>=4.5 in /usr/local/lib/python3.10/dist-packages (from aiohttp!=4.0.0a0,!=4.0.0a1->fsspec[http]!=2021.06.0,>=2021.05.0->pytorch_lightning<1.8.0,>=1.6.4) (6.0.4)\n",
            "Requirement already satisfied: async-timeout<5.0,>=4.0.0a3 in /usr/local/lib/python3.10/dist-packages (from aiohttp!=4.0.0a0,!=4.0.0a1->fsspec[http]!=2021.06.0,>=2021.05.0->pytorch_lightning<1.8.0,>=1.6.4) (4.0.2)\n",
            "Requirement already satisfied: yarl<2.0,>=1.0 in /usr/local/lib/python3.10/dist-packages (from aiohttp!=4.0.0a0,!=4.0.0a1->fsspec[http]!=2021.06.0,>=2021.05.0->pytorch_lightning<1.8.0,>=1.6.4) (1.9.2)\n",
            "Requirement already satisfied: frozenlist>=1.1.1 in /usr/local/lib/python3.10/dist-packages (from aiohttp!=4.0.0a0,!=4.0.0a1->fsspec[http]!=2021.06.0,>=2021.05.0->pytorch_lightning<1.8.0,>=1.6.4) (1.3.3)\n",
            "Requirement already satisfied: aiosignal>=1.1.2 in /usr/local/lib/python3.10/dist-packages (from aiohttp!=4.0.0a0,!=4.0.0a1->fsspec[http]!=2021.06.0,>=2021.05.0->pytorch_lightning<1.8.0,>=1.6.4) (1.3.1)\n",
            "Requirement already satisfied: cachetools<6.0,>=2.0.0 in /usr/local/lib/python3.10/dist-packages (from google-auth<3,>=1.6.3->tensorboard>=2.9.1->pytorch_lightning<1.8.0,>=1.6.4) (5.3.0)\n",
            "Requirement already satisfied: pyasn1-modules>=0.2.1 in /usr/local/lib/python3.10/dist-packages (from google-auth<3,>=1.6.3->tensorboard>=2.9.1->pytorch_lightning<1.8.0,>=1.6.4) (0.3.0)\n",
            "Requirement already satisfied: six>=1.9.0 in /usr/local/lib/python3.10/dist-packages (from google-auth<3,>=1.6.3->tensorboard>=2.9.1->pytorch_lightning<1.8.0,>=1.6.4) (1.16.0)\n",
            "Requirement already satisfied: rsa<5,>=3.1.4 in /usr/local/lib/python3.10/dist-packages (from google-auth<3,>=1.6.3->tensorboard>=2.9.1->pytorch_lightning<1.8.0,>=1.6.4) (4.7.2)\n",
            "Requirement already satisfied: requests-oauthlib>=0.7.0 in /usr/local/lib/python3.10/dist-packages (from google-auth-oauthlib<1.1,>=0.5->tensorboard>=2.9.1->pytorch_lightning<1.8.0,>=1.6.4) (1.3.1)\n",
            "Requirement already satisfied: urllib3<1.27,>=1.21.1 in /usr/local/lib/python3.10/dist-packages (from requests->fsspec[http]!=2021.06.0,>=2021.05.0->pytorch_lightning<1.8.0,>=1.6.4) (1.26.15)\n",
            "Requirement already satisfied: certifi>=2017.4.17 in /usr/local/lib/python3.10/dist-packages (from requests->fsspec[http]!=2021.06.0,>=2021.05.0->pytorch_lightning<1.8.0,>=1.6.4) (2022.12.7)\n",
            "Requirement already satisfied: idna<4,>=2.5 in /usr/local/lib/python3.10/dist-packages (from requests->fsspec[http]!=2021.06.0,>=2021.05.0->pytorch_lightning<1.8.0,>=1.6.4) (3.4)\n",
            "Requirement already satisfied: MarkupSafe>=2.1.1 in /usr/local/lib/python3.10/dist-packages (from werkzeug>=1.0.1->tensorboard>=2.9.1->pytorch_lightning<1.8.0,>=1.6.4) (2.1.2)\n",
            "Requirement already satisfied: pyasn1<0.6.0,>=0.4.6 in /usr/local/lib/python3.10/dist-packages (from pyasn1-modules>=0.2.1->google-auth<3,>=1.6.3->tensorboard>=2.9.1->pytorch_lightning<1.8.0,>=1.6.4) (0.5.0)\n",
            "Requirement already satisfied: oauthlib>=3.0.0 in /usr/local/lib/python3.10/dist-packages (from requests-oauthlib>=0.7.0->google-auth-oauthlib<1.1,>=0.5->tensorboard>=2.9.1->pytorch_lightning<1.8.0,>=1.6.4) (3.2.2)\n",
            "Looking in indexes: https://pypi.org/simple, https://us-python.pkg.dev/colab-wheels/public/simple/\n",
            "Requirement already satisfied: xarray in /usr/local/lib/python3.10/dist-packages (2022.12.0)\n",
            "Requirement already satisfied: netcdf4 in /usr/local/lib/python3.10/dist-packages (1.6.3)\n",
            "Requirement already satisfied: opencv-python in /usr/local/lib/python3.10/dist-packages (4.7.0.72)\n",
            "Requirement already satisfied: numpy>=1.20 in /usr/local/lib/python3.10/dist-packages (from xarray) (1.22.4)\n",
            "Requirement already satisfied: pandas>=1.3 in /usr/local/lib/python3.10/dist-packages (from xarray) (1.5.3)\n",
            "Requirement already satisfied: packaging>=21.3 in /usr/local/lib/python3.10/dist-packages (from xarray) (23.1)\n",
            "Requirement already satisfied: cftime in /usr/local/lib/python3.10/dist-packages (from netcdf4) (1.6.2)\n",
            "Requirement already satisfied: python-dateutil>=2.8.1 in /usr/local/lib/python3.10/dist-packages (from pandas>=1.3->xarray) (2.8.2)\n",
            "Requirement already satisfied: pytz>=2020.1 in /usr/local/lib/python3.10/dist-packages (from pandas>=1.3->xarray) (2022.7.1)\n",
            "Requirement already satisfied: six>=1.5 in /usr/local/lib/python3.10/dist-packages (from python-dateutil>=2.8.1->pandas>=1.3->xarray) (1.16.0)\n",
            "fatal: destination path 'earth-forecasting-transformer' already exists and is not an empty directory.\n",
            "Looking in indexes: https://pypi.org/simple, https://us-python.pkg.dev/colab-wheels/public/simple/\n",
            "Obtaining file:///content/earth-forecasting-transformer/scripts/cuboid_transformer/sevir/earth-forecasting-transformer\n",
            "  Preparing metadata (setup.py) ... \u001b[?25l\u001b[?25hdone\n",
            "Requirement already satisfied: absl-py in /usr/local/lib/python3.10/dist-packages (from earthformer==0.0.1.dev20230514) (1.4.0)\n",
            "Requirement already satisfied: boto3 in /usr/local/lib/python3.10/dist-packages (from earthformer==0.0.1.dev20230514) (1.26.133)\n",
            "Requirement already satisfied: javalang>=0.13.0 in /usr/local/lib/python3.10/dist-packages (from earthformer==0.0.1.dev20230514) (0.13.0)\n",
            "Requirement already satisfied: h5py>=2.10.0 in /usr/local/lib/python3.10/dist-packages (from earthformer==0.0.1.dev20230514) (3.8.0)\n",
            "Requirement already satisfied: yacs>=0.1.8 in /usr/local/lib/python3.10/dist-packages (from earthformer==0.0.1.dev20230514) (0.1.8)\n",
            "Requirement already satisfied: protobuf in /usr/local/lib/python3.10/dist-packages (from earthformer==0.0.1.dev20230514) (3.20.3)\n",
            "Requirement already satisfied: unidiff in /usr/local/lib/python3.10/dist-packages (from earthformer==0.0.1.dev20230514) (0.7.5)\n",
            "Requirement already satisfied: scipy in /usr/local/lib/python3.10/dist-packages (from earthformer==0.0.1.dev20230514) (1.10.1)\n",
            "Requirement already satisfied: tqdm in /usr/local/lib/python3.10/dist-packages (from earthformer==0.0.1.dev20230514) (4.65.0)\n",
            "Requirement already satisfied: regex in /usr/local/lib/python3.10/dist-packages (from earthformer==0.0.1.dev20230514) (2022.10.31)\n",
            "Requirement already satisfied: requests in /usr/local/lib/python3.10/dist-packages (from earthformer==0.0.1.dev20230514) (2.27.1)\n",
            "Requirement already satisfied: jsonlines in /usr/local/lib/python3.10/dist-packages (from earthformer==0.0.1.dev20230514) (3.1.0)\n",
            "Requirement already satisfied: contextvars in /usr/local/lib/python3.10/dist-packages (from earthformer==0.0.1.dev20230514) (2.4)\n",
            "Requirement already satisfied: pyarrow>=3 in /usr/local/lib/python3.10/dist-packages (from earthformer==0.0.1.dev20230514) (9.0.0)\n",
            "Requirement already satisfied: transformers>=4.3.0 in /usr/local/lib/python3.10/dist-packages (from earthformer==0.0.1.dev20230514) (4.29.1)\n",
            "Requirement already satisfied: tensorboard in /usr/local/lib/python3.10/dist-packages (from earthformer==0.0.1.dev20230514) (2.12.2)\n",
            "Requirement already satisfied: pandas in /usr/local/lib/python3.10/dist-packages (from earthformer==0.0.1.dev20230514) (1.5.3)\n",
            "Requirement already satisfied: graphviz in /usr/local/lib/python3.10/dist-packages (from earthformer==0.0.1.dev20230514) (0.20.1)\n",
            "Requirement already satisfied: networkx in /usr/local/lib/python3.10/dist-packages (from earthformer==0.0.1.dev20230514) (3.1)\n",
            "Requirement already satisfied: fairscale>=0.3.0 in /usr/local/lib/python3.10/dist-packages (from earthformer==0.0.1.dev20230514) (0.4.13)\n",
            "Requirement already satisfied: fvcore>=0.1.5 in /usr/local/lib/python3.10/dist-packages (from earthformer==0.0.1.dev20230514) (0.1.5.post20221221)\n",
            "Requirement already satisfied: pympler in /usr/local/lib/python3.10/dist-packages (from earthformer==0.0.1.dev20230514) (1.0.1)\n",
            "Requirement already satisfied: einops>=0.3.0 in /usr/local/lib/python3.10/dist-packages (from earthformer==0.0.1.dev20230514) (0.6.1)\n",
            "Requirement already satisfied: timm in /usr/local/lib/python3.10/dist-packages (from earthformer==0.0.1.dev20230514) (0.9.1)\n",
            "Requirement already satisfied: omegaconf in /usr/local/lib/python3.10/dist-packages (from earthformer==0.0.1.dev20230514) (2.3.0)\n",
            "Requirement already satisfied: matplotlib in /usr/local/lib/python3.10/dist-packages (from earthformer==0.0.1.dev20230514) (3.7.1)\n",
            "Requirement already satisfied: awscli in /usr/local/lib/python3.10/dist-packages (from earthformer==0.0.1.dev20230514) (1.27.133)\n",
            "Requirement already satisfied: botocore in /usr/local/lib/python3.10/dist-packages (from earthformer==0.0.1.dev20230514) (1.29.133)\n",
            "Requirement already satisfied: torch>=1.8.0 in /usr/local/lib/python3.10/dist-packages (from fairscale>=0.3.0->earthformer==0.0.1.dev20230514) (1.12.1+cu116)\n",
            "Requirement already satisfied: numpy>=1.22.0 in /usr/local/lib/python3.10/dist-packages (from fairscale>=0.3.0->earthformer==0.0.1.dev20230514) (1.22.4)\n",
            "Requirement already satisfied: pyyaml>=5.1 in /usr/local/lib/python3.10/dist-packages (from fvcore>=0.1.5->earthformer==0.0.1.dev20230514) (5.4.1)\n",
            "Requirement already satisfied: termcolor>=1.1 in /usr/local/lib/python3.10/dist-packages (from fvcore>=0.1.5->earthformer==0.0.1.dev20230514) (2.3.0)\n",
            "Requirement already satisfied: Pillow in /usr/local/lib/python3.10/dist-packages (from fvcore>=0.1.5->earthformer==0.0.1.dev20230514) (8.4.0)\n",
            "Requirement already satisfied: tabulate in /usr/local/lib/python3.10/dist-packages (from fvcore>=0.1.5->earthformer==0.0.1.dev20230514) (0.8.10)\n",
            "Requirement already satisfied: iopath>=0.1.7 in /usr/local/lib/python3.10/dist-packages (from fvcore>=0.1.5->earthformer==0.0.1.dev20230514) (0.1.10)\n",
            "Requirement already satisfied: six in /usr/local/lib/python3.10/dist-packages (from javalang>=0.13.0->earthformer==0.0.1.dev20230514) (1.16.0)\n",
            "Requirement already satisfied: filelock in /usr/local/lib/python3.10/dist-packages (from transformers>=4.3.0->earthformer==0.0.1.dev20230514) (3.12.0)\n",
            "Requirement already satisfied: huggingface-hub<1.0,>=0.14.1 in /usr/local/lib/python3.10/dist-packages (from transformers>=4.3.0->earthformer==0.0.1.dev20230514) (0.14.1)\n",
            "Requirement already satisfied: packaging>=20.0 in /usr/local/lib/python3.10/dist-packages (from transformers>=4.3.0->earthformer==0.0.1.dev20230514) (23.1)\n",
            "Requirement already satisfied: tokenizers!=0.11.3,<0.14,>=0.11.1 in /usr/local/lib/python3.10/dist-packages (from transformers>=4.3.0->earthformer==0.0.1.dev20230514) (0.13.3)\n",
            "Requirement already satisfied: docutils<0.17,>=0.10 in /usr/local/lib/python3.10/dist-packages (from awscli->earthformer==0.0.1.dev20230514) (0.16)\n",
            "Requirement already satisfied: s3transfer<0.7.0,>=0.6.0 in /usr/local/lib/python3.10/dist-packages (from awscli->earthformer==0.0.1.dev20230514) (0.6.1)\n",
            "Requirement already satisfied: colorama<0.4.5,>=0.2.5 in /usr/local/lib/python3.10/dist-packages (from awscli->earthformer==0.0.1.dev20230514) (0.4.4)\n",
            "Requirement already satisfied: rsa<4.8,>=3.1.2 in /usr/local/lib/python3.10/dist-packages (from awscli->earthformer==0.0.1.dev20230514) (4.7.2)\n",
            "Requirement already satisfied: jmespath<2.0.0,>=0.7.1 in /usr/local/lib/python3.10/dist-packages (from botocore->earthformer==0.0.1.dev20230514) (1.0.1)\n",
            "Requirement already satisfied: python-dateutil<3.0.0,>=2.1 in /usr/local/lib/python3.10/dist-packages (from botocore->earthformer==0.0.1.dev20230514) (2.8.2)\n",
            "Requirement already satisfied: urllib3<1.27,>=1.25.4 in /usr/local/lib/python3.10/dist-packages (from botocore->earthformer==0.0.1.dev20230514) (1.26.15)\n",
            "Requirement already satisfied: immutables>=0.9 in /usr/local/lib/python3.10/dist-packages (from contextvars->earthformer==0.0.1.dev20230514) (0.19)\n",
            "Requirement already satisfied: attrs>=19.2.0 in /usr/local/lib/python3.10/dist-packages (from jsonlines->earthformer==0.0.1.dev20230514) (23.1.0)\n",
            "Requirement already satisfied: contourpy>=1.0.1 in /usr/local/lib/python3.10/dist-packages (from matplotlib->earthformer==0.0.1.dev20230514) (1.0.7)\n",
            "Requirement already satisfied: cycler>=0.10 in /usr/local/lib/python3.10/dist-packages (from matplotlib->earthformer==0.0.1.dev20230514) (0.11.0)\n",
            "Requirement already satisfied: fonttools>=4.22.0 in /usr/local/lib/python3.10/dist-packages (from matplotlib->earthformer==0.0.1.dev20230514) (4.39.3)\n",
            "Requirement already satisfied: kiwisolver>=1.0.1 in /usr/local/lib/python3.10/dist-packages (from matplotlib->earthformer==0.0.1.dev20230514) (1.4.4)\n",
            "Requirement already satisfied: pyparsing>=2.3.1 in /usr/local/lib/python3.10/dist-packages (from matplotlib->earthformer==0.0.1.dev20230514) (3.0.9)\n",
            "Requirement already satisfied: antlr4-python3-runtime==4.9.* in /usr/local/lib/python3.10/dist-packages (from omegaconf->earthformer==0.0.1.dev20230514) (4.9.3)\n",
            "Requirement already satisfied: pytz>=2020.1 in /usr/local/lib/python3.10/dist-packages (from pandas->earthformer==0.0.1.dev20230514) (2022.7.1)\n",
            "Requirement already satisfied: certifi>=2017.4.17 in /usr/local/lib/python3.10/dist-packages (from requests->earthformer==0.0.1.dev20230514) (2022.12.7)\n",
            "Requirement already satisfied: charset-normalizer~=2.0.0 in /usr/local/lib/python3.10/dist-packages (from requests->earthformer==0.0.1.dev20230514) (2.0.12)\n",
            "Requirement already satisfied: idna<4,>=2.5 in /usr/local/lib/python3.10/dist-packages (from requests->earthformer==0.0.1.dev20230514) (3.4)\n",
            "Requirement already satisfied: grpcio>=1.48.2 in /usr/local/lib/python3.10/dist-packages (from tensorboard->earthformer==0.0.1.dev20230514) (1.54.0)\n",
            "Requirement already satisfied: google-auth<3,>=1.6.3 in /usr/local/lib/python3.10/dist-packages (from tensorboard->earthformer==0.0.1.dev20230514) (2.17.3)\n",
            "Requirement already satisfied: google-auth-oauthlib<1.1,>=0.5 in /usr/local/lib/python3.10/dist-packages (from tensorboard->earthformer==0.0.1.dev20230514) (1.0.0)\n",
            "Requirement already satisfied: markdown>=2.6.8 in /usr/local/lib/python3.10/dist-packages (from tensorboard->earthformer==0.0.1.dev20230514) (3.4.3)\n",
            "Requirement already satisfied: setuptools>=41.0.0 in /usr/local/lib/python3.10/dist-packages (from tensorboard->earthformer==0.0.1.dev20230514) (67.7.2)\n",
            "Requirement already satisfied: tensorboard-data-server<0.8.0,>=0.7.0 in /usr/local/lib/python3.10/dist-packages (from tensorboard->earthformer==0.0.1.dev20230514) (0.7.0)\n",
            "Requirement already satisfied: tensorboard-plugin-wit>=1.6.0 in /usr/local/lib/python3.10/dist-packages (from tensorboard->earthformer==0.0.1.dev20230514) (1.8.1)\n",
            "Requirement already satisfied: werkzeug>=1.0.1 in /usr/local/lib/python3.10/dist-packages (from tensorboard->earthformer==0.0.1.dev20230514) (2.3.0)\n",
            "Requirement already satisfied: wheel>=0.26 in /usr/local/lib/python3.10/dist-packages (from tensorboard->earthformer==0.0.1.dev20230514) (0.40.0)\n",
            "Requirement already satisfied: torchvision in /usr/local/lib/python3.10/dist-packages (from timm->earthformer==0.0.1.dev20230514) (0.13.1+cu116)\n",
            "Requirement already satisfied: safetensors in /usr/local/lib/python3.10/dist-packages (from timm->earthformer==0.0.1.dev20230514) (0.3.1)\n",
            "Requirement already satisfied: cachetools<6.0,>=2.0.0 in /usr/local/lib/python3.10/dist-packages (from google-auth<3,>=1.6.3->tensorboard->earthformer==0.0.1.dev20230514) (5.3.0)\n",
            "Requirement already satisfied: pyasn1-modules>=0.2.1 in /usr/local/lib/python3.10/dist-packages (from google-auth<3,>=1.6.3->tensorboard->earthformer==0.0.1.dev20230514) (0.3.0)\n",
            "Requirement already satisfied: requests-oauthlib>=0.7.0 in /usr/local/lib/python3.10/dist-packages (from google-auth-oauthlib<1.1,>=0.5->tensorboard->earthformer==0.0.1.dev20230514) (1.3.1)\n",
            "Requirement already satisfied: fsspec in /usr/local/lib/python3.10/dist-packages (from huggingface-hub<1.0,>=0.14.1->transformers>=4.3.0->earthformer==0.0.1.dev20230514) (2023.4.0)\n",
            "Requirement already satisfied: typing-extensions>=3.7.4.3 in /usr/local/lib/python3.10/dist-packages (from huggingface-hub<1.0,>=0.14.1->transformers>=4.3.0->earthformer==0.0.1.dev20230514) (4.5.0)\n",
            "Requirement already satisfied: portalocker in /usr/local/lib/python3.10/dist-packages (from iopath>=0.1.7->fvcore>=0.1.5->earthformer==0.0.1.dev20230514) (2.7.0)\n",
            "Requirement already satisfied: pyasn1>=0.1.3 in /usr/local/lib/python3.10/dist-packages (from rsa<4.8,>=3.1.2->awscli->earthformer==0.0.1.dev20230514) (0.5.0)\n",
            "Requirement already satisfied: MarkupSafe>=2.1.1 in /usr/local/lib/python3.10/dist-packages (from werkzeug>=1.0.1->tensorboard->earthformer==0.0.1.dev20230514) (2.1.2)\n",
            "Requirement already satisfied: oauthlib>=3.0.0 in /usr/local/lib/python3.10/dist-packages (from requests-oauthlib>=0.7.0->google-auth-oauthlib<1.1,>=0.5->tensorboard->earthformer==0.0.1.dev20230514) (3.2.2)\n",
            "Installing collected packages: earthformer\n",
            "  Attempting uninstall: earthformer\n",
            "    Found existing installation: earthformer 0.0.1.dev20230514\n",
            "    Uninstalling earthformer-0.0.1.dev20230514:\n",
            "      Successfully uninstalled earthformer-0.0.1.dev20230514\n",
            "  Running setup.py develop for earthformer\n",
            "Successfully installed earthformer-0.0.1.dev20230514\n",
            "Using pip 23.1.2 from /usr/local/lib/python3.10/dist-packages/pip (python 3.10)\n",
            "Looking in indexes: https://pypi.org/simple, https://us-python.pkg.dev/colab-wheels/public/simple/\n",
            "Collecting git+https://github.com/NVIDIA/apex.git\n",
            "  Cloning https://github.com/NVIDIA/apex.git to /tmp/pip-req-build-46gsvov9\n",
            "  Running command git version\n",
            "  git version 2.25.1\n",
            "  Running command git clone --filter=blob:none https://github.com/NVIDIA/apex.git /tmp/pip-req-build-46gsvov9\n",
            "  Cloning into '/tmp/pip-req-build-46gsvov9'...\n",
            "  Running command git rev-parse HEAD\n",
            "  8b7a1ff183741dd8f9b87e7bafd04cfde99cea28\n",
            "  Resolved https://github.com/NVIDIA/apex.git to commit 8b7a1ff183741dd8f9b87e7bafd04cfde99cea28\n",
            "  Running command git submodule update --init --recursive -q\n",
            "  Running command git rev-parse HEAD\n",
            "  8b7a1ff183741dd8f9b87e7bafd04cfde99cea28\n",
            "  Running command python setup.py egg_info\n",
            "\n",
            "\n",
            "  torch.__version__  = 1.12.1+cu116\n",
            "\n",
            "\n",
            "  running egg_info\n",
            "  creating /tmp/pip-pip-egg-info-t3o_jm2v/apex.egg-info\n",
            "  writing /tmp/pip-pip-egg-info-t3o_jm2v/apex.egg-info/PKG-INFO\n",
            "  writing dependency_links to /tmp/pip-pip-egg-info-t3o_jm2v/apex.egg-info/dependency_links.txt\n",
            "  writing requirements to /tmp/pip-pip-egg-info-t3o_jm2v/apex.egg-info/requires.txt\n",
            "  writing top-level names to /tmp/pip-pip-egg-info-t3o_jm2v/apex.egg-info/top_level.txt\n",
            "  writing manifest file '/tmp/pip-pip-egg-info-t3o_jm2v/apex.egg-info/SOURCES.txt'\n",
            "  reading manifest file '/tmp/pip-pip-egg-info-t3o_jm2v/apex.egg-info/SOURCES.txt'\n",
            "  adding license file 'LICENSE'\n",
            "  writing manifest file '/tmp/pip-pip-egg-info-t3o_jm2v/apex.egg-info/SOURCES.txt'\n",
            "  Preparing metadata (setup.py) ... \u001b[?25l\u001b[?25hdone\n",
            "Requirement already satisfied: pytorch-extension in /usr/local/lib/python3.10/dist-packages (0.2)\n",
            "Requirement already satisfied: packaging>20.6 in /usr/local/lib/python3.10/dist-packages (from apex==0.1) (23.1)\n"
          ]
        },
        {
          "output_type": "execute_result",
          "data": {
            "text/plain": []
          },
          "metadata": {},
          "execution_count": 24
        }
      ]
    },
    {
      "cell_type": "code",
      "execution_count": 25,
      "metadata": {
        "colab": {
          "base_uri": "https://localhost:8080/"
        },
        "id": "qHRoFQNocmqI",
        "outputId": "3b0354e1-326e-4ae1-e021-dd7582bcc732"
      },
      "outputs": [
        {
          "output_type": "stream",
          "name": "stdout",
          "text": [
            "env: HOME=/content/earth-forecasting-transformer\n",
            "/content/earth-forecasting-transformer\n"
          ]
        }
      ],
      "source": [
        "# !curl 'https://raw.githubusercontent.com/leahandofir/earthformer-inference-experiments/main/prerequisites.sh' -o ./prerequisites.sh\n",
        "# !bash ./prerequisites.sh\n",
        "%env HOME=/content/earth-forecasting-transformer\n",
        "%cd ~"
      ]
    },
    {
      "cell_type": "code",
      "source": [
        "# download all 2019 data\n",
        "!aws s3 cp --no-sign-request --recursive --region us-west-2 s3://sevir/data/vil/2019 ~/datasets/sevir/data/vil/2019\n",
        "!aws s3 cp --no-sign-request --region us-west-2 s3://sevir/CATALOG.csv ~/datasets/sevir/CATALOG.csv"
      ],
      "metadata": {
        "colab": {
          "base_uri": "https://localhost:8080/"
        },
        "id": "f-sWS46ZiUB-",
        "outputId": "6f6e7a76-ffe5-4a88-adab-4e81f4d6bf7d"
      },
      "execution_count": 29,
      "outputs": [
        {
          "output_type": "stream",
          "name": "stdout",
          "text": [
            "download: s3://sevir/data/vil/2019/SEVIR_VIL_STORMEVENTS_2019_0701_1231.h5 to ../../../datasets/sevir/data/vil/2019/SEVIR_VIL_STORMEVENTS_2019_0701_1231.h5\n",
            "download: s3://sevir/data/vil/2019/SEVIR_VIL_STORMEVENTS_2019_0101_0630.h5 to ../../../datasets/sevir/data/vil/2019/SEVIR_VIL_STORMEVENTS_2019_0101_0630.h5\n",
            "download: s3://sevir/data/vil/2019/SEVIR_VIL_RANDOMEVENTS_2019_0901_1231.h5 to ../../../datasets/sevir/data/vil/2019/SEVIR_VIL_RANDOMEVENTS_2019_0901_1231.h5\n",
            "download: s3://sevir/data/vil/2019/SEVIR_VIL_RANDOMEVENTS_2019_0101_0430.h5 to ../../../datasets/sevir/data/vil/2019/SEVIR_VIL_RANDOMEVENTS_2019_0101_0430.h5\n",
            "download: s3://sevir/data/vil/2019/SEVIR_VIL_RANDOMEVENTS_2019_0501_0831.h5 to ../../../datasets/sevir/data/vil/2019/SEVIR_VIL_RANDOMEVENTS_2019_0501_0831.h5\n",
            "download: s3://sevir/CATALOG.csv to ../../../datasets/sevir/CATALOG.csv\n"
          ]
        }
      ]
    },
    {
      "cell_type": "code",
      "source": [
        "%cd scripts/cuboid_transformer/sevir"
      ],
      "metadata": {
        "colab": {
          "base_uri": "https://localhost:8080/"
        },
        "id": "akSlaUUve5Eq",
        "outputId": "f345eb54-2559-41ba-d5f0-6489d973552c"
      },
      "execution_count": 38,
      "outputs": [
        {
          "output_type": "stream",
          "name": "stdout",
          "text": [
            "/content/earth-forecasting-transformer/scripts/cuboid_transformer/sevir\n"
          ]
        }
      ]
    },
    {
      "cell_type": "code",
      "source": [
        "from omegaconf import OmegaConf\n",
        "conf = OmegaConf.load('./cfg_sevir.yaml')\n",
        "conf.dataset.start_date = [2019, 1, 1]\n",
        "conf.dataset.end_date = [2019, 12, 1]\n",
        "conf.dataset.train_val_split_date = [2019, 1, 31]\n",
        "conf.dataset.train_test_split_date = [2019, 5, 1]\n",
        "OmegaConf.save(config=conf, f='./my_cfg_sevir.yaml')"
      ],
      "metadata": {
        "id": "7lhRUXs6fqAi"
      },
      "execution_count": 39,
      "outputs": []
    },
    {
      "cell_type": "code",
      "source": [
        "!MASTER_ADDR=localhost MASTER_PORT=10001 python train_cuboid_sevir.py --gpus 1 --cfg my_cfg_sevir.yaml --ckpt_name last.ckpt --save tmp_sevir"
      ],
      "metadata": {
        "colab": {
          "base_uri": "https://localhost:8080/"
        },
        "id": "Sjlof6eQfp5f",
        "outputId": "ec39c7ac-c0ed-4db2-9a2a-591e8bd3c300"
      },
      "execution_count": 40,
      "outputs": [
        {
          "output_type": "stream",
          "name": "stdout",
          "text": [
            "Global seed set to 0\n",
            "Traceback (most recent call last):\n",
            "  File \"/content/earth-forecasting-transformer/scripts/cuboid_transformer/sevir/train_cuboid_sevir.py\", line 792, in <module>\n",
            "    main()\n",
            "  File \"/content/earth-forecasting-transformer/scripts/cuboid_transformer/sevir/train_cuboid_sevir.py\", line 740, in main\n",
            "    dm.setup()\n",
            "  File \"/content/earth-forecasting-transformer/scripts/cuboid_transformer/sevir/earth-forecasting-transformer/src/earthformer/datasets/sevir/sevir_torch_wrap.py\", line 222, in setup\n",
            "    self.sevir_train = SEVIRTorchDataset(\n",
            "  File \"/content/earth-forecasting-transformer/scripts/cuboid_transformer/sevir/earth-forecasting-transformer/src/earthformer/datasets/sevir/sevir_torch_wrap.py\", line 39, in __init__\n",
            "    self.sevir_dataloader = SEVIRDataLoader(\n",
            "  File \"/content/earth-forecasting-transformer/scripts/cuboid_transformer/sevir/earth-forecasting-transformer/src/earthformer/datasets/sevir/sevir_dataloader.py\", line 225, in __init__\n",
            "    self._open_files(verbose=self.verbose)\n",
            "  File \"/content/earth-forecasting-transformer/scripts/cuboid_transformer/sevir/earth-forecasting-transformer/src/earthformer/datasets/sevir/sevir_dataloader.py\", line 271, in _open_files\n",
            "    self._hdf_files[f] = h5py.File(self.sevir_data_dir + '/' + f, 'r')\n",
            "  File \"/usr/local/lib/python3.10/dist-packages/h5py/_hl/files.py\", line 567, in __init__\n",
            "    fid = make_fid(name, mode, userblock_size, fapl, fcpl, swmr=swmr)\n",
            "  File \"/usr/local/lib/python3.10/dist-packages/h5py/_hl/files.py\", line 231, in make_fid\n",
            "    fid = h5f.open(name, flags, fapl=fapl)\n",
            "  File \"h5py/_objects.pyx\", line 54, in h5py._objects.with_phil.wrapper\n",
            "  File \"h5py/_objects.pyx\", line 55, in h5py._objects.with_phil.wrapper\n",
            "  File \"h5py/h5f.pyx\", line 106, in h5py.h5f.open\n",
            "FileNotFoundError: [Errno 2] Unable to open file (unable to open file: name = '/content/earth-forecasting-transformer/scripts/cuboid_transformer/sevir/earth-forecasting-transformer/datasets/sevir/data/vil/2019/SEVIR_VIL_RANDOMEVENTS_2019_0101_0430.h5', errno = 2, error message = 'No such file or directory', flags = 0, o_flags = 0)\n"
          ]
        }
      ]
    },
    {
      "cell_type": "code",
      "source": [],
      "metadata": {
        "id": "2XBSGvKimi9H"
      },
      "execution_count": null,
      "outputs": []
    }
  ]
}