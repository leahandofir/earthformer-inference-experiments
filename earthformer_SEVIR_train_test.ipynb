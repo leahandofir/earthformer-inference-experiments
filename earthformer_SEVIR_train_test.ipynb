{
  "nbformat": 4,
  "nbformat_minor": 0,
  "metadata": {
    "colab": {
      "provenance": [],
      "machine_shape": "hm",
      "gpuType": "A100",
      "authorship_tag": "ABX9TyMsc5Ks6mehgsOTV6yMheSG",
      "include_colab_link": true
    },
    "kernelspec": {
      "name": "python3",
      "display_name": "Python 3"
    },
    "language_info": {
      "name": "python"
    },
    "accelerator": "GPU",
    "gpuClass": "standard"
  },
  "cells": [
    {
      "cell_type": "markdown",
      "metadata": {
        "id": "view-in-github",
        "colab_type": "text"
      },
      "source": [
        "<a href=\"https://colab.research.google.com/github/leahandofir/earthformer-inference-experiments/blob/main/earthformer_SEVIR_train_test.ipynb\" target=\"_parent\"><img src=\"https://colab.research.google.com/assets/colab-badge.svg\" alt=\"Open In Colab\"/></a>"
      ]
    },
    {
      "cell_type": "markdown",
      "source": [
        "Trying to run the training code on a small dataset (https://github.com/amazon-science/earth-forecasting-transformer/tree/main/scripts/cuboid_transformer/sevir)"
      ],
      "metadata": {
        "id": "RVAMqqlGcy-2"
      }
    },
    {
      "cell_type": "markdown",
      "source": [
        "Install dependecies"
      ],
      "metadata": {
        "id": "zFPXvZfWcy9A"
      }
    },
    {
      "cell_type": "code",
      "execution_count": null,
      "metadata": {
        "id": "qHRoFQNocmqI"
      },
      "outputs": [],
      "source": [
        "!curl 'https://raw.githubusercontent.com/leahandofir/earthformer-inference-experiments/main/prerequisites.sh' -o ./prerequisites.sh\n",
        "!bash ./prerequisites.sh\n",
        "%env HOME=/content/earth-forecasting-transformer\n",
        "%cd ~"
      ]
    },
    {
      "cell_type": "code",
      "source": [
        "%cd scripts/cuboid_transformer/sevir"
      ],
      "metadata": {
        "colab": {
          "base_uri": "https://localhost:8080/"
        },
        "id": "akSlaUUve5Eq",
        "outputId": "bcca2adb-d597-4b3d-f516-9a158d923481"
      },
      "execution_count": 2,
      "outputs": [
        {
          "output_type": "stream",
          "name": "stdout",
          "text": [
            "/content/earth-forecasting-transformer/scripts/cuboid_transformer/sevir\n"
          ]
        }
      ]
    },
    {
      "cell_type": "code",
      "source": [
        "#MASTER_ADDR=localhost MASTER_PORT=10001 python train_cuboid_sevir.py --gpus 2 --cfg cfg_sevir.yaml --ckpt_name last.ckpt --save tmp_sevir"
      ],
      "metadata": {
        "id": "MbFJ2kTSfJux"
      },
      "execution_count": 3,
      "outputs": []
    },
    {
      "cell_type": "code",
      "source": [
        "from omegaconf import OmegaConf\n",
        "conf = OmegaConf.load('./cfg_sevir.yaml')\n",
        "conf.dataset.start_date = \"[2019, 1, 1]\"\n",
        "conf.dataset.end_date = \"[2019, 12, 1]\"\n",
        "conf.dataset.train_val_split_date = \"[2019, 1, 31]\"\n",
        "conf.dataset.train_test_split_date = \"[2019, 5, 1]\"\n",
        "OmegaConf.save(config=conf, f='./my_cfg_sevir.yaml')"
      ],
      "metadata": {
        "id": "7lhRUXs6fqAi"
      },
      "execution_count": 7,
      "outputs": []
    },
    {
      "cell_type": "code",
      "source": [],
      "metadata": {
        "id": "Sjlof6eQfp5f"
      },
      "execution_count": null,
      "outputs": []
    }
  ]
}