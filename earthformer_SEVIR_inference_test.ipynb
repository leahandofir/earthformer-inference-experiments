{
  "nbformat": 4,
  "nbformat_minor": 0,
  "metadata": {
    "colab": {
      "provenance": [],
      "authorship_tag": "ABX9TyNeXZ2YuSlpgsslJKAPNShh",
      "include_colab_link": true
    },
    "kernelspec": {
      "name": "python3",
      "display_name": "Python 3"
    },
    "language_info": {
      "name": "python"
    }
  },
  "cells": [
    {
      "cell_type": "markdown",
      "metadata": {
        "id": "view-in-github",
        "colab_type": "text"
      },
      "source": [
        "<a href=\"https://colab.research.google.com/github/leahandofir/earthformer-inference-experiments/blob/main/earthformer_SEVIR_inference_test.ipynb\" target=\"_parent\"><img src=\"https://colab.research.google.com/assets/colab-badge.svg\" alt=\"Open In Colab\"/></a>"
      ]
    },
    {
      "cell_type": "markdown",
      "source": [
        "SEVIR dataset: https://nbviewer.org/github/MIT-AI-Accelerator/eie-sevir/blob/master/examples/SEVIR_Tutorial.ipynb "
      ],
      "metadata": {
        "id": "L2cjkLghlSys"
      }
    },
    {
      "cell_type": "markdown",
      "source": [
        "Install dependecies"
      ],
      "metadata": {
        "id": "vuCtV7OrleKL"
      }
    },
    {
      "cell_type": "code",
      "source": [
        "!curl 'https://raw.githubusercontent.com/leahandofir/earthformer-inference-experiments/main/prerequisites.sh' -o ./prerequisites.sh\n",
        "!bash ./prerequisites.sh"
      ],
      "metadata": {
        "id": "QVeENQizlSkR"
      },
      "execution_count": null,
      "outputs": []
    },
    {
      "cell_type": "code",
      "source": [
        "# checking the aws cli installation\n",
        "!aws --version"
      ],
      "metadata": {
        "colab": {
          "base_uri": "https://localhost:8080/"
        },
        "id": "AxLWgpXNmy1K",
        "outputId": "d076c267-85e8-49ce-ed33-f2032e4afff9"
      },
      "execution_count": 11,
      "outputs": [
        {
          "output_type": "stream",
          "name": "stdout",
          "text": [
            "aws-cli/2.11.19 Python/3.11.3 Linux/5.10.147+ exe/x86_64.ubuntu.20 prompt/off\n"
          ]
        }
      ]
    },
    {
      "cell_type": "code",
      "source": [
        "%env HOME=/content/earth-forecasting-transformer\n",
        "%cd $HOME"
      ],
      "metadata": {
        "colab": {
          "base_uri": "https://localhost:8080/"
        },
        "id": "r-N3WWkqqMQ5",
        "outputId": "7bee014b-f666-4937-ee48-e7c00a20aae5"
      },
      "execution_count": 27,
      "outputs": [
        {
          "output_type": "stream",
          "name": "stdout",
          "text": [
            "env: HOME=/content/earth-forecasting-transformer\n",
            "[Errno 2] No such file or directory: '$HOME'\n",
            "/root\n"
          ]
        }
      ]
    },
    {
      "cell_type": "code",
      "source": [
        "# download the pre-trained weights\n",
        "!curl 'https://deep-earth.s3.amazonaws.com/experiments/earthformer/pretrained_checkpoints/earthformer_sevir.pt' -o $HOME/tests/unittests/earthformer_sevir.pt"
      ],
      "metadata": {
        "colab": {
          "base_uri": "https://localhost:8080/"
        },
        "id": "OzGE9s_Dp6x-",
        "outputId": "ee22d193-53d2-47c6-9207-af8427db3232"
      },
      "execution_count": 28,
      "outputs": [
        {
          "output_type": "stream",
          "name": "stdout",
          "text": [
            "  % Total    % Received % Xferd  Average Speed   Time    Time     Time  Current\n",
            "                                 Dload  Upload   Total   Spent    Left  Speed\n",
            "100 33.1M  100 33.1M    0     0  6222k      0  0:00:05  0:00:05 --:--:-- 7451k\n"
          ]
        }
      ]
    },
    {
      "cell_type": "code",
      "source": [
        "from omegaconf import OmegaConf\n",
        "import numpy as np\n",
        "import torch\n",
        "from src.earthformer.config import cfg\n",
        "from src.earthformer.utils.layout import layout_to_in_out_slice\n",
        "from src.earthformer.cuboid_transformer.cuboid_transformer import CuboidTransformerModel\n",
        "\n",
        "# load the pre-trained earthformer model\n",
        "device = torch.device(\"cuda:0\") if torch.cuda.is_available() else torch.device(\"cpu\")\n",
        "pretrained_cfg_path = os.path.join(cfg.root_dir, \"scripts\", \"cuboid_transformer\", \"sevir\", \"earthformer_sevir_v1.yaml\")\n",
        "pretrained_cfg = OmegaConf.load(open(pretrained_cfg_path, \"r\"))\n",
        "model = config_cuboid_transformer(\n",
        "    cfg=pretrained_cfg,\n",
        "    model_type=\"CuboidTransformerModel\").to(device)\n",
        "model.eval()\n",
        "layout_cfg = pretrained_cfg.layout\n",
        "in_slice, out_slice = layout_to_in_out_slice(layout=layout_cfg.layout,\n",
        "                                              in_len=layout_cfg.in_len,\n",
        "                                              out_len=layout_cfg.out_len)\n",
        "\n",
        "# data_seq = batch['vil'].contiguous().to(device)\n",
        "# x = data_seq[in_slice]\n",
        "# y = data_seq[out_slice]\n",
        "# y_hat = model(x)"
      ],
      "metadata": {
        "id": "Z3gN01HTpfgY"
      },
      "execution_count": null,
      "outputs": []
    },
    {
      "cell_type": "markdown",
      "source": [],
      "metadata": {
        "id": "PQIgxnyjmoib"
      }
    }
  ]
}