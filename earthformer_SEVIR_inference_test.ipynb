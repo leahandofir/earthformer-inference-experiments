{
  "nbformat": 4,
  "nbformat_minor": 0,
  "metadata": {
    "colab": {
      "provenance": [],
      "authorship_tag": "ABX9TyMS1XkLzWVD1NBmEPcuEWXE",
      "include_colab_link": true
    },
    "kernelspec": {
      "name": "python3",
      "display_name": "Python 3"
    },
    "language_info": {
      "name": "python"
    }
  },
  "cells": [
    {
      "cell_type": "markdown",
      "metadata": {
        "id": "view-in-github",
        "colab_type": "text"
      },
      "source": [
        "<a href=\"https://colab.research.google.com/github/leahandofir/earthformer-inference-experiments/blob/main/earthformer_SEVIR_inference_test.ipynb\" target=\"_parent\"><img src=\"https://colab.research.google.com/assets/colab-badge.svg\" alt=\"Open In Colab\"/></a>"
      ]
    },
    {
      "cell_type": "markdown",
      "source": [
        "SEVIR dataset: https://nbviewer.org/github/MIT-AI-Accelerator/eie-sevir/blob/master/examples/SEVIR_Tutorial.ipynb "
      ],
      "metadata": {
        "id": "L2cjkLghlSys"
      }
    },
    {
      "cell_type": "markdown",
      "source": [
        "Install dependecies"
      ],
      "metadata": {
        "id": "vuCtV7OrleKL"
      }
    },
    {
      "cell_type": "code",
      "source": [
        "!curl 'https://raw.githubusercontent.com/leahandofir/earthformer-inference-experiments/main/prerequisites.sh' -o ./prerequisites.sh\n",
        "!bash ./prerequisites.sh"
      ],
      "metadata": {
        "id": "QVeENQizlSkR"
      },
      "execution_count": null,
      "outputs": []
    },
    {
      "cell_type": "code",
      "source": [
        "# checking the aws cli installation\n",
        "!aws --version"
      ],
      "metadata": {
        "colab": {
          "base_uri": "https://localhost:8080/"
        },
        "id": "AxLWgpXNmy1K",
        "outputId": "d076c267-85e8-49ce-ed33-f2032e4afff9"
      },
      "execution_count": 11,
      "outputs": [
        {
          "output_type": "stream",
          "name": "stdout",
          "text": [
            "aws-cli/2.11.19 Python/3.11.3 Linux/5.10.147+ exe/x86_64.ubuntu.20 prompt/off\n"
          ]
        }
      ]
    },
    {
      "cell_type": "code",
      "source": [
        "%env HOME=/content/earth-forecasting-transformer\n",
        "%cd ~"
      ],
      "metadata": {
        "colab": {
          "base_uri": "https://localhost:8080/"
        },
        "id": "r-N3WWkqqMQ5",
        "outputId": "6f6e3754-4891-448b-e1a6-3e1c29603694"
      },
      "execution_count": 39,
      "outputs": [
        {
          "output_type": "stream",
          "name": "stdout",
          "text": [
            "env: HOME=/content/earth-forecasting-transformer\n",
            "/content/earth-forecasting-transformer\n"
          ]
        }
      ]
    },
    {
      "cell_type": "code",
      "source": [
        "# download the pre-trained weights\n",
        "!curl 'https://deep-earth.s3.amazonaws.com/experiments/earthformer/pretrained_checkpoints/earthformer_sevir.pt' -o $HOME/tests/unittests/ earthformer_sevir.pt"
      ],
      "metadata": {
        "colab": {
          "base_uri": "https://localhost:8080/"
        },
        "id": "OzGE9s_Dp6x-",
        "outputId": "f239fad9-f45e-4db7-9585-c8724b6070a9"
      },
      "execution_count": 40,
      "outputs": [
        {
          "output_type": "stream",
          "name": "stdout",
          "text": [
            "  % Total    % Received % Xferd  Average Speed   Time    Time     Time  Current\n",
            "                                 Dload  Upload   Total   Spent    Left  Speed\n",
            "  0     0    0     0    0     0      0      0 --:--:-- --:--:-- --:--:--     0Warning: Failed to create the file \n",
            "Warning: /content/earth-forecasting-transformer/tests/unittests/: Is a \n",
            "Warning: directory\n",
            "  0 33.1M    0   488    0     0   1164      0  8:18:15 --:--:--  8:18:15  1164\n",
            "curl: (23) Failed writing body (0 != 488)\n",
            "curl: (6) Could not resolve host: earthformer_sevir.pt\n"
          ]
        }
      ]
    },
    {
      "cell_type": "code",
      "source": [
        "# SEVIR data files are h5 type files\n",
        "!aws s3 ls --no-sign-request s3://sevir/data/vil --recursive --human-readable --region us-west-2\n",
        "# download all 2019 data\n",
        "!aws s3 cp --no-sign-request --recursive --region us-west-2 s3://sevir/data/vil/2019 ~/datasets/sevir/data/vil/2019\n",
        "!aws s3 cp --no-sign-request --region us-west-2 s3://sevir/CATALOG.csv ~/datasets/sevir/CATALOG.csv"
      ],
      "metadata": {
        "id": "FCnK3JcNyG3B"
      },
      "execution_count": null,
      "outputs": []
    },
    {
      "cell_type": "code",
      "source": [
        "%cd ~/src\n",
        "import sys, os\n",
        "sys.path.append(os.path.join(os.getcwd(), '../tests/unittests'))\n",
        "from test_pretrained_checkpoints import config_cuboid_transformer\n",
        "\n",
        "from omegaconf import OmegaConf\n",
        "import numpy as np\n",
        "import torch\n",
        "from earthformer.config import cfg\n",
        "from earthformer.utils.layout import layout_to_in_out_slice\n",
        "from earthformer.datasets.sevir.sevir_torch_wrap import SEVIRTorchDataset, SEVIRLightningDataModule\n",
        "import datetime\n",
        "\n",
        "# load the pre-trained earthformer model\n",
        "device = torch.device(\"cuda:0\") if torch.cuda.is_available() else torch.device(\"cpu\")\n",
        "pretrained_cfg_path = os.path.join(cfg.root_dir, \"scripts\", \"cuboid_transformer\", \"sevir\", \"earthformer_sevir_v1.yaml\")\n",
        "pretrained_cfg = OmegaConf.load(open(pretrained_cfg_path, \"r\"))\n",
        "model = config_cuboid_transformer(\n",
        "    cfg=pretrained_cfg,\n",
        "    model_type=\"CuboidTransformerModel\").to(device)\n",
        "model.eval()\n",
        "layout_cfg = pretrained_cfg.layout\n",
        "in_slice, out_slice = layout_to_in_out_slice(layout=layout_cfg.layout,\n",
        "                                              in_len=layout_cfg.in_len,\n",
        "                                              out_len=layout_cfg.out_len)\n",
        "\n",
        "# load data - works only with those specific dates... maybe they did not treat an empty dataset\n",
        "sevir_data_module = SEVIRLightningDataModule(start_date=(2019, 1, 1), end_date=(2019, 12, 1), train_val_split_date=(2019, 1, 31), train_test_split_date=(2019, 5, 1))\n",
        "sevir_data_module.prepare_data()\n",
        "sevir_data_module.setup()\n",
        "\n",
        "# this works as well\n",
        "# sevir_dataset = SEVIRTorchDataset(start_date=datetime.datetime(*(2019, 1, 1)), end_date=datetime.datetime(*(2019, 8, 1)), sevir_catalog='/content/earth-forecasting-transformer/datasets/sevir/CATALOG.csv', sevir_data_dir='/content/earth-forecasting-transformer/datasets/sevir/data')"
      ],
      "metadata": {
        "colab": {
          "base_uri": "https://localhost:8080/"
        },
        "id": "Z3gN01HTpfgY",
        "outputId": "daa145dc-d933-4f1e-f80a-cd80757bbfb2"
      },
      "execution_count": 94,
      "outputs": [
        {
          "output_type": "stream",
          "name": "stdout",
          "text": [
            "/content/earth-forecasting-transformer/src\n"
          ]
        }
      ]
    },
    {
      "cell_type": "code",
      "source": [
        "# get the first sample in the predict dataset\n",
        "# batch = sevir_data_module.sevir_predict[0]\n",
        "# data_seq = batch['vil'].contiguous().to(device)\n",
        "# x = data_seq[in_slice]\n",
        "# y = data_seq[out_slice]\n",
        "# y_hat = model(x)\n",
        "\n",
        "# get batch from the data loader\n",
        "batch = next(iter(sevir_data_module.sevir_predict.get_torch_dataloader()))\n",
        "data_seq = batch['vil'][0].contiguous().to(device)\n",
        "x = data_seq[:,:,:13]\n",
        "y = data_seq[:,:,13:]\n",
        "y_hat = model(x)"
      ],
      "metadata": {
        "colab": {
          "base_uri": "https://localhost:8080/",
          "height": 356
        },
        "id": "q8QRiQxBEgl0",
        "outputId": "aee33de7-db11-4855-96c3-14f3bf35f074"
      },
      "execution_count": 98,
      "outputs": [
        {
          "output_type": "error",
          "ename": "ValueError",
          "evalue": "ignored",
          "traceback": [
            "\u001b[0;31m---------------------------------------------------------------------------\u001b[0m",
            "\u001b[0;31mValueError\u001b[0m                                Traceback (most recent call last)",
            "\u001b[0;32m<ipython-input-98-863998230adf>\u001b[0m in \u001b[0;36m<cell line: 13>\u001b[0;34m()\u001b[0m\n\u001b[1;32m     11\u001b[0m \u001b[0mx\u001b[0m \u001b[0;34m=\u001b[0m \u001b[0mdata_seq\u001b[0m\u001b[0;34m[\u001b[0m\u001b[0;34m:\u001b[0m\u001b[0;34m,\u001b[0m\u001b[0;34m:\u001b[0m\u001b[0;34m,\u001b[0m\u001b[0;34m:\u001b[0m\u001b[0;36m13\u001b[0m\u001b[0;34m]\u001b[0m\u001b[0;34m\u001b[0m\u001b[0;34m\u001b[0m\u001b[0m\n\u001b[1;32m     12\u001b[0m \u001b[0my\u001b[0m \u001b[0;34m=\u001b[0m \u001b[0mdata_seq\u001b[0m\u001b[0;34m[\u001b[0m\u001b[0;34m:\u001b[0m\u001b[0;34m,\u001b[0m\u001b[0;34m:\u001b[0m\u001b[0;34m,\u001b[0m\u001b[0;36m13\u001b[0m\u001b[0;34m:\u001b[0m\u001b[0;34m]\u001b[0m\u001b[0;34m\u001b[0m\u001b[0;34m\u001b[0m\u001b[0m\n\u001b[0;32m---> 13\u001b[0;31m \u001b[0my_hat\u001b[0m \u001b[0;34m=\u001b[0m \u001b[0mmodel\u001b[0m\u001b[0;34m(\u001b[0m\u001b[0mx\u001b[0m\u001b[0;34m)\u001b[0m\u001b[0;34m\u001b[0m\u001b[0;34m\u001b[0m\u001b[0m\n\u001b[0m",
            "\u001b[0;32m/usr/local/lib/python3.10/dist-packages/torch/nn/modules/module.py\u001b[0m in \u001b[0;36m_call_impl\u001b[0;34m(self, *args, **kwargs)\u001b[0m\n\u001b[1;32m   1499\u001b[0m                 \u001b[0;32mor\u001b[0m \u001b[0m_global_backward_pre_hooks\u001b[0m \u001b[0;32mor\u001b[0m \u001b[0m_global_backward_hooks\u001b[0m\u001b[0;34m\u001b[0m\u001b[0;34m\u001b[0m\u001b[0m\n\u001b[1;32m   1500\u001b[0m                 or _global_forward_hooks or _global_forward_pre_hooks):\n\u001b[0;32m-> 1501\u001b[0;31m             \u001b[0;32mreturn\u001b[0m \u001b[0mforward_call\u001b[0m\u001b[0;34m(\u001b[0m\u001b[0;34m*\u001b[0m\u001b[0margs\u001b[0m\u001b[0;34m,\u001b[0m \u001b[0;34m**\u001b[0m\u001b[0mkwargs\u001b[0m\u001b[0;34m)\u001b[0m\u001b[0;34m\u001b[0m\u001b[0;34m\u001b[0m\u001b[0m\n\u001b[0m\u001b[1;32m   1502\u001b[0m         \u001b[0;31m# Do not call functions when jit is used\u001b[0m\u001b[0;34m\u001b[0m\u001b[0;34m\u001b[0m\u001b[0m\n\u001b[1;32m   1503\u001b[0m         \u001b[0mfull_backward_hooks\u001b[0m\u001b[0;34m,\u001b[0m \u001b[0mnon_full_backward_hooks\u001b[0m \u001b[0;34m=\u001b[0m \u001b[0;34m[\u001b[0m\u001b[0;34m]\u001b[0m\u001b[0;34m,\u001b[0m \u001b[0;34m[\u001b[0m\u001b[0;34m]\u001b[0m\u001b[0;34m\u001b[0m\u001b[0;34m\u001b[0m\u001b[0m\n",
            "\u001b[0;32m~/src/earthformer/cuboid_transformer/cuboid_transformer.py\u001b[0m in \u001b[0;36mforward\u001b[0;34m(self, x, verbose)\u001b[0m\n\u001b[1;32m   3175\u001b[0m             \u001b[0mThe\u001b[0m \u001b[0moutput\u001b[0m \u001b[0mShape\u001b[0m \u001b[0;34m(\u001b[0m\u001b[0mB\u001b[0m\u001b[0;34m,\u001b[0m \u001b[0mT_out\u001b[0m\u001b[0;34m,\u001b[0m \u001b[0mH\u001b[0m\u001b[0;34m,\u001b[0m \u001b[0mW\u001b[0m\u001b[0;34m,\u001b[0m \u001b[0mC_out\u001b[0m\u001b[0;34m)\u001b[0m\u001b[0;34m\u001b[0m\u001b[0;34m\u001b[0m\u001b[0m\n\u001b[1;32m   3176\u001b[0m         \"\"\"\n\u001b[0;32m-> 3177\u001b[0;31m         \u001b[0mB\u001b[0m\u001b[0;34m,\u001b[0m \u001b[0m_\u001b[0m\u001b[0;34m,\u001b[0m \u001b[0m_\u001b[0m\u001b[0;34m,\u001b[0m \u001b[0m_\u001b[0m\u001b[0;34m,\u001b[0m \u001b[0m_\u001b[0m \u001b[0;34m=\u001b[0m \u001b[0mx\u001b[0m\u001b[0;34m.\u001b[0m\u001b[0mshape\u001b[0m\u001b[0;34m\u001b[0m\u001b[0;34m\u001b[0m\u001b[0m\n\u001b[0m\u001b[1;32m   3178\u001b[0m         \u001b[0mT_out\u001b[0m \u001b[0;34m=\u001b[0m \u001b[0mself\u001b[0m\u001b[0;34m.\u001b[0m\u001b[0mtarget_shape\u001b[0m\u001b[0;34m[\u001b[0m\u001b[0;36m0\u001b[0m\u001b[0;34m]\u001b[0m\u001b[0;34m\u001b[0m\u001b[0;34m\u001b[0m\u001b[0m\n\u001b[1;32m   3179\u001b[0m         \u001b[0mx\u001b[0m \u001b[0;34m=\u001b[0m \u001b[0mself\u001b[0m\u001b[0;34m.\u001b[0m\u001b[0minitial_encoder\u001b[0m\u001b[0;34m(\u001b[0m\u001b[0mx\u001b[0m\u001b[0;34m)\u001b[0m\u001b[0;34m\u001b[0m\u001b[0;34m\u001b[0m\u001b[0m\n",
            "\u001b[0;31mValueError\u001b[0m: not enough values to unpack (expected 5, got 3)"
          ]
        }
      ]
    },
    {
      "cell_type": "markdown",
      "source": [],
      "metadata": {
        "id": "PQIgxnyjmoib"
      }
    }
  ]
}