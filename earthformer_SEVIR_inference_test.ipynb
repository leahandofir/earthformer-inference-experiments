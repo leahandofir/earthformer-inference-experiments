{
  "nbformat": 4,
  "nbformat_minor": 0,
  "metadata": {
    "colab": {
      "provenance": [],
      "authorship_tag": "ABX9TyNlq2tjOoWyyetDHEUV53Ea",
      "include_colab_link": true
    },
    "kernelspec": {
      "name": "python3",
      "display_name": "Python 3"
    },
    "language_info": {
      "name": "python"
    }
  },
  "cells": [
    {
      "cell_type": "markdown",
      "metadata": {
        "id": "view-in-github",
        "colab_type": "text"
      },
      "source": [
        "<a href=\"https://colab.research.google.com/github/leahandofir/earthformer-inference-experiments/blob/main/earthformer_SEVIR_inference_test.ipynb\" target=\"_parent\"><img src=\"https://colab.research.google.com/assets/colab-badge.svg\" alt=\"Open In Colab\"/></a>"
      ]
    },
    {
      "cell_type": "markdown",
      "source": [
        "SEVIR dataset: https://nbviewer.org/github/MIT-AI-Accelerator/eie-sevir/blob/master/examples/SEVIR_Tutorial.ipynb "
      ],
      "metadata": {
        "id": "L2cjkLghlSys"
      }
    },
    {
      "cell_type": "markdown",
      "source": [
        "Install dependecies"
      ],
      "metadata": {
        "id": "vuCtV7OrleKL"
      }
    },
    {
      "cell_type": "code",
      "source": [
        "!curl 'https://raw.githubusercontent.com/leahandofir/earthformer-inference-experiments/main/prerequisites.sh' -o ./prerequisites.sh\n",
        "!bash ./prerequisites.sh"
      ],
      "metadata": {
        "id": "QVeENQizlSkR"
      },
      "execution_count": null,
      "outputs": []
    },
    {
      "cell_type": "code",
      "source": [
        "# checking the aws cli installation\n",
        "!aws --version"
      ],
      "metadata": {
        "colab": {
          "base_uri": "https://localhost:8080/"
        },
        "id": "AxLWgpXNmy1K",
        "outputId": "d076c267-85e8-49ce-ed33-f2032e4afff9"
      },
      "execution_count": 11,
      "outputs": [
        {
          "output_type": "stream",
          "name": "stdout",
          "text": [
            "aws-cli/2.11.19 Python/3.11.3 Linux/5.10.147+ exe/x86_64.ubuntu.20 prompt/off\n"
          ]
        }
      ]
    },
    {
      "cell_type": "code",
      "source": [
        "%env HOME=/content/earth-forecasting-transformer\n",
        "%cd ~"
      ],
      "metadata": {
        "colab": {
          "base_uri": "https://localhost:8080/"
        },
        "id": "r-N3WWkqqMQ5",
        "outputId": "6f6e3754-4891-448b-e1a6-3e1c29603694"
      },
      "execution_count": 39,
      "outputs": [
        {
          "output_type": "stream",
          "name": "stdout",
          "text": [
            "env: HOME=/content/earth-forecasting-transformer\n",
            "/content/earth-forecasting-transformer\n"
          ]
        }
      ]
    },
    {
      "cell_type": "code",
      "source": [
        "# download the pre-trained weights\n",
        "!curl 'https://deep-earth.s3.amazonaws.com/experiments/earthformer/pretrained_checkpoints/earthformer_sevir.pt' -o $HOME/tests/unittests/ earthformer_sevir.pt"
      ],
      "metadata": {
        "colab": {
          "base_uri": "https://localhost:8080/"
        },
        "id": "OzGE9s_Dp6x-",
        "outputId": "f239fad9-f45e-4db7-9585-c8724b6070a9"
      },
      "execution_count": 40,
      "outputs": [
        {
          "output_type": "stream",
          "name": "stdout",
          "text": [
            "  % Total    % Received % Xferd  Average Speed   Time    Time     Time  Current\n",
            "                                 Dload  Upload   Total   Spent    Left  Speed\n",
            "  0     0    0     0    0     0      0      0 --:--:-- --:--:-- --:--:--     0Warning: Failed to create the file \n",
            "Warning: /content/earth-forecasting-transformer/tests/unittests/: Is a \n",
            "Warning: directory\n",
            "  0 33.1M    0   488    0     0   1164      0  8:18:15 --:--:--  8:18:15  1164\n",
            "curl: (23) Failed writing body (0 != 488)\n",
            "curl: (6) Could not resolve host: earthformer_sevir.pt\n"
          ]
        }
      ]
    },
    {
      "cell_type": "code",
      "source": [
        "# SEVIR data files are h5 type files\n",
        "!aws s3 ls --no-sign-request s3://sevir/data/vil --recursive --human-readable --region us-west-2\n",
        "# download all 2019 data\n",
        "!aws s3 cp --no-sign-request --recursive --region us-west-2 s3://sevir/data/vil/2019 ~/src/earthformer/datasets/sevir/data/vil\n",
        "!aws s3 cp --no-sign-request --region us-west-2 s3://sevir/CATALOG.csv ~/src/earthformer/datasets/sevir/CATALOG.csv"
      ],
      "metadata": {
        "colab": {
          "base_uri": "https://localhost:8080/"
        },
        "id": "FCnK3JcNyG3B",
        "outputId": "7a1b3620-7701-4f1e-dda7-e0733a6d7675"
      },
      "execution_count": null,
      "outputs": [
        {
          "output_type": "stream",
          "name": "stdout",
          "text": [
            "2020-04-15 02:49:50    9.7 GiB data/vil/2017/SEVIR_VIL_RANDOMEVENTS_2017_0501_0831.h5\n",
            "2020-04-15 02:49:50   12.8 GiB data/vil/2017/SEVIR_VIL_RANDOMEVENTS_2017_0901_1231.h5\n",
            "2020-04-15 02:49:57    1.3 GiB data/vil/2017/SEVIR_VIL_STORMEVENTS_2017_0101_0630.h5\n",
            "2020-04-15 02:50:00    4.6 GiB data/vil/2017/SEVIR_VIL_STORMEVENTS_2017_0701_1231.h5\n",
            "2020-04-15 02:50:09   11.5 GiB data/vil/2018/SEVIR_VIL_RANDOMEVENTS_2018_0101_0430.h5\n",
            "2020-04-15 02:52:12   15.9 GiB data/vil/2018/SEVIR_VIL_RANDOMEVENTS_2018_0501_0831.h5\n",
            "2020-04-15 02:58:05   15.1 GiB data/vil/2018/SEVIR_VIL_RANDOMEVENTS_2018_0901_1231.h5\n",
            "2020-04-15 03:06:49    5.3 GiB data/vil/2018/SEVIR_VIL_STORMEVENTS_2018_0101_0630.h5\n",
            "2020-04-15 03:10:18    5.7 GiB data/vil/2018/SEVIR_VIL_STORMEVENTS_2018_0701_1231.h5\n",
            "2020-04-15 18:28:01   15.2 GiB data/vil/2019/SEVIR_VIL_RANDOMEVENTS_2019_0101_0430.h5\n",
            "2020-04-15 18:28:02   15.6 GiB data/vil/2019/SEVIR_VIL_RANDOMEVENTS_2019_0501_0831.h5\n",
            "2020-04-15 18:28:02   15.1 GiB data/vil/2019/SEVIR_VIL_RANDOMEVENTS_2019_0901_1231.h5\n",
            "2020-04-15 03:20:30    5.7 GiB data/vil/2019/SEVIR_VIL_STORMEVENTS_2019_0101_0630.h5\n",
            "2020-04-15 03:24:48    3.6 GiB data/vil/2019/SEVIR_VIL_STORMEVENTS_2019_0701_1231.h5\n",
            "download: s3://sevir/data/vil/2019/SEVIR_VIL_STORMEVENTS_2019_0701_1231.h5 to earthformer/datasets/sevir/data/vil/SEVIR_VIL_STORMEVENTS_2019_0701_1231.h5\n",
            "download: s3://sevir/data/vil/2019/SEVIR_VIL_STORMEVENTS_2019_0101_0630.h5 to earthformer/datasets/sevir/data/vil/SEVIR_VIL_STORMEVENTS_2019_0101_0630.h5\n"
          ]
        }
      ]
    },
    {
      "cell_type": "code",
      "source": [
        "%cd ~/src\n",
        "import sys, os\n",
        "sys.path.append(os.path.join(os.getcwd(), '../tests/unittests'))\n",
        "from test_pretrained_checkpoints import config_cuboid_transformer\n",
        "\n",
        "from omegaconf import OmegaConf\n",
        "import numpy as np\n",
        "import torch\n",
        "from earthformer.config import cfg\n",
        "from earthformer.utils.layout import layout_to_in_out_slice\n",
        "from earthformer.cuboid_transformer.cuboid_transformer import CuboidTransformerModel\n",
        "from earthformer.datasets.sevir import SEVIRLightningDataModule\n",
        "\n",
        "# load the pre-trained earthformer model\n",
        "device = torch.device(\"cuda:0\") if torch.cuda.is_available() else torch.device(\"cpu\")\n",
        "pretrained_cfg_path = os.path.join(cfg.root_dir, \"scripts\", \"cuboid_transformer\", \"sevir\", \"earthformer_sevir_v1.yaml\")\n",
        "pretrained_cfg = OmegaConf.load(open(pretrained_cfg_path, \"r\"))\n",
        "model = config_cuboid_transformer(\n",
        "    cfg=pretrained_cfg,\n",
        "    model_type=\"CuboidTransformerModel\").to(device)\n",
        "model.eval()\n",
        "layout_cfg = pretrained_cfg.layout\n",
        "in_slice, out_slice = layout_to_in_out_slice(layout=layout_cfg.layout,\n",
        "                                              in_len=layout_cfg.in_len,\n",
        "                                              out_len=layout_cfg.out_len)\n",
        "# download data\n",
        "\n",
        "# data_seq = batch['vil'].contiguous().to(device)\n",
        "# x = data_seq[in_slice]\n",
        "# y = data_seq[out_slice]\n",
        "# y_hat = model(x)"
      ],
      "metadata": {
        "colab": {
          "base_uri": "https://localhost:8080/"
        },
        "id": "Z3gN01HTpfgY",
        "outputId": "5dfb19ed-72b2-4d71-e403-aee11994b1d7"
      },
      "execution_count": 56,
      "outputs": [
        {
          "output_type": "stream",
          "name": "stdout",
          "text": [
            "/content/earth-forecasting-transformer/src\n"
          ]
        },
        {
          "output_type": "execute_result",
          "data": {
            "text/plain": [
              "[slice(None, None, None),\n",
              " slice(None, 13, None),\n",
              " slice(None, None, None),\n",
              " slice(None, None, None),\n",
              " slice(None, None, None)]"
            ]
          },
          "metadata": {},
          "execution_count": 56
        }
      ]
    },
    {
      "cell_type": "markdown",
      "source": [],
      "metadata": {
        "id": "PQIgxnyjmoib"
      }
    }
  ]
}