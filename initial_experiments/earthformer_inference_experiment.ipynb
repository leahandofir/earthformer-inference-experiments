{
 "nbformat": 4,
 "nbformat_minor": 0,
 "metadata": {
  "colab": {
   "provenance": []
  },
  "kernelspec": {
   "name": "python3",
   "display_name": "Python 3"
  },
  "language_info": {
   "name": "python"
  },
  "accelerator": "GPU",
  "gpuClass": "standard"
 },
 "cells": [
  {
   "cell_type": "code",
   "source": [
    "# ubuntu version\n",
    "!lsb_release -a"
   ],
   "metadata": {
    "id": "haz4bGb6VMfb",
    "pycharm": {
     "name": "#%%\n"
    }
   },
   "execution_count": null,
   "outputs": []
  },
  {
   "cell_type": "markdown",
   "source": [],
   "metadata": {
    "id": "rvnAa1EHVvJL",
    "pycharm": {
     "name": "#%% md\n"
    }
   }
  },
  {
   "cell_type": "code",
   "execution_count": null,
   "metadata": {
    "id": "qwOuHXvP7-Wj",
    "pycharm": {
     "name": "#%%\n"
    }
   },
   "outputs": [],
   "source": [
    "# check which version of CUDA is installed\n",
    "!nvcc --version"
   ]
  },
  {
   "cell_type": "code",
   "source": [
    "# check CUDA location\n",
    "!which nvcc"
   ],
   "metadata": {
    "id": "PEIOmPsR-tFT",
    "pycharm": {
     "name": "#%%\n"
    }
   },
   "execution_count": null,
   "outputs": []
  },
  {
   "cell_type": "code",
   "source": [
    "# install CUDA 11.6.2 https://stackoverflow.com/questions/50560395/how-to-install-cuda-in-google-colab-gpus\n",
    "!wget https://developer.download.nvidia.com/compute/cuda/repos/ubuntu2004/x86_64/cuda-ubuntu2004.pin\n",
    "!mv cuda-ubuntu2004.pin /etc/apt/preferences.d/cuda-repository-pin-600\n",
    "!wget https://developer.download.nvidia.com/compute/cuda/11.6.2/local_installers/cuda-repo-ubuntu2004-11-6-local_11.6.2-510.47.03-1_amd64.deb\n",
    "!dpkg -i cuda-repo-ubuntu2004-11-6-local_11.6.2-510.47.0-1_amd64.deb\n",
    "!apt-key add /var/cuda-repo-ubuntu2004-11-6-local/7fa2af80.pub\n",
    "!apt-get update\n",
    "!apt-get -y install cuda-11-6"
   ],
   "metadata": {
    "id": "q2L-kq4tJTI1",
    "pycharm": {
     "name": "#%%\n"
    }
   },
   "execution_count": null,
   "outputs": []
  },
  {
   "cell_type": "code",
   "source": [
    "# check if installed\n",
    "!ls -la /usr/local"
   ],
   "metadata": {
    "id": "Rb0TudIpM4pw",
    "pycharm": {
     "name": "#%%\n"
    }
   },
   "execution_count": null,
   "outputs": []
  },
  {
   "cell_type": "code",
   "source": [
    "# symlink to be the current CUDA\n",
    "!rm /usr/local/cuda\n",
    "!ln -s /usr/local/cuda-11.6 /usr/local/cuda"
   ],
   "metadata": {
    "id": "0sjbsK1CYnmg",
    "executionInfo": {
     "status": "ok",
     "timestamp": 1682606258039,
     "user_tz": -180,
     "elapsed": 351,
     "user": {
      "displayName": "Leah and Ofir",
      "userId": "09975359956858931174"
     }
    },
    "pycharm": {
     "name": "#%%\n"
    }
   },
   "execution_count": 6,
   "outputs": []
  },
  {
   "cell_type": "code",
   "source": [
    "!nvcc --version"
   ],
   "metadata": {
    "id": "5lgPTpFzW86F",
    "pycharm": {
     "name": "#%%\n"
    }
   },
   "execution_count": null,
   "outputs": []
  },
  {
   "cell_type": "code",
   "source": [
    "# check if conda is installed\n",
    "!conda --version"
   ],
   "metadata": {
    "id": "Fo0NHP7C8NWQ",
    "pycharm": {
     "name": "#%%\n"
    }
   },
   "execution_count": null,
   "outputs": []
  },
  {
   "cell_type": "code",
   "source": [
    "# install conda\n",
    "!pip install -q condacolab\n",
    "import condacolab\n",
    "condacolab.install()"
   ],
   "metadata": {
    "id": "obnBTqeb9ADU",
    "pycharm": {
     "name": "#%%\n"
    }
   },
   "execution_count": null,
   "outputs": []
  },
  {
   "cell_type": "code",
   "source": [
    "# check installation\n",
    "!conda --version"
   ],
   "metadata": {
    "id": "JT_-b3LK9T7Q",
    "pycharm": {
     "name": "#%%\n"
    }
   },
   "execution_count": null,
   "outputs": []
  },
  {
   "cell_type": "code",
   "source": [
    "# check installation location\n",
    "!which conda"
   ],
   "metadata": {
    "id": "DSegLY0l9a57",
    "pycharm": {
     "name": "#%%\n"
    }
   },
   "execution_count": null,
   "outputs": []
  },
  {
   "cell_type": "code",
   "source": [
    "# create earthformer environment\n",
    "!conda init bash\n",
    "!conda create -n earthformer python=3.9"
   ],
   "metadata": {
    "id": "R-MkbXBe-A2M",
    "pycharm": {
     "name": "#%%\n"
    }
   },
   "execution_count": null,
   "outputs": []
  },
  {
   "cell_type": "code",
   "source": [
    "%%shell\n",
    "eval \"$(conda shell.bash hook)\" # copy conda command to shell\n",
    "conda activate earthformer\n",
    "conda info\n",
    "nvcc --version\n",
    "# install dependencies\n",
    "pip install --upgrade pip\n",
    "python3 -m pip install torch==1.12.1+cu116 torchvision==0.13.1+cu116 -f https://download.pytorch.org/whl/torch_stable.html\n",
    "python3 -m pip install pytorch_lightning>=1.6.4\n",
    "python3 -m pip install xarray netcdf4 opencv-python\n",
    "git clone https://github.com/amazon-science/earth-forecasting-transformer.git\n",
    "cd earth-forecasting-transformer\n",
    "python3 -m pip install -U -e . --no-build-isolation\n",
    "python3 -m pip install setuptools\n",
    "python3 -m pip install packaging\n",
    "pip install --upgrade setuptools wheel Cmake numpy numba ninja\n",
    "env CUDA_HOME=/usr/local/cuda-11.6\n",
    "pip install -v --disable-pip-version-check --no-cache-dir pytorch-extension git+https://github.com/NVIDIA/apex.git"
   ],
   "metadata": {
    "id": "vUtU9O-uNNs_",
    "pycharm": {
     "name": "#%%\n"
    }
   },
   "execution_count": null,
   "outputs": []
  },
  {
   "cell_type": "code",
   "source": [
    "%%shell\n",
    "# install aws cli to check the size of the sevir dataset\n",
    "eval \"$(conda shell.bash hook)\" # copy conda command to shell\n",
    "conda activate earthformer\n",
    "conda info\n",
    "curl \"https://awscli.amazonaws.com/awscli-exe-linux-x86_64.zip\" -o \"awscliv2.zip\"\n",
    "unzip awscliv2.zip\n",
    "sudo ./aws/install"
   ],
   "metadata": {
    "id": "-t0eIig-dk2_",
    "pycharm": {
     "name": "#%%\n"
    }
   },
   "execution_count": null,
   "outputs": []
  },
  {
   "cell_type": "code",
   "source": [
    "%%shell\n",
    "# checking the aws cli installation and the size of the sevir dataset\n",
    "eval \"$(conda shell.bash hook)\" # copy conda command to shell\n",
    "conda activate earthformer\n",
    "aws --version\n",
    "aws s3 ls --no-sign-request s3://sevir/data/vil --recursive --summarize --human-readable"
   ],
   "metadata": {
    "id": "NUIx5xecdotd",
    "pycharm": {
     "name": "#%%\n"
    }
   },
   "execution_count": null,
   "outputs": []
  },
  {
   "cell_type": "code",
   "source": [
    "# %%shell\n",
    "# # downloading sevir\n",
    "# eval \"$(conda shell.bash hook)\" # copy conda command to shell\n",
    "# conda activate earthformer\n",
    "# cd earth-forecasting-transformer\n",
    "# rm -d -r ./datasets/sevir\n",
    "# python3 ./scripts/datasets/sevir/download_sevir.py --dataset sevir"
   ],
   "metadata": {
    "id": "lq36Oswjm2IA",
    "executionInfo": {
     "status": "ok",
     "timestamp": 1682606554611,
     "user_tz": -180,
     "elapsed": 14,
     "user": {
      "displayName": "Leah and Ofir",
      "userId": "09975359956858931174"
     }
    },
    "pycharm": {
     "name": "#%%\n"
    }
   },
   "execution_count": 16,
   "outputs": []
  },
  {
   "cell_type": "code",
   "source": [
    "%cd earth-forecasting-transformer"
   ],
   "metadata": {
    "id": "vaqPwgLJuOoT",
    "colab": {
     "base_uri": "https://localhost:8080/"
    },
    "executionInfo": {
     "status": "ok",
     "timestamp": 1682607510549,
     "user_tz": -180,
     "elapsed": 259,
     "user": {
      "displayName": "Leah and Ofir",
      "userId": "09975359956858931174"
     }
    },
    "outputId": "96eeed4e-11fb-44fa-e2b0-d7adc7f9ec83",
    "pycharm": {
     "name": "#%%\n"
    }
   },
   "execution_count": 22,
   "outputs": [
    {
     "output_type": "stream",
     "name": "stdout",
     "text": [
      "/content/earth-forecasting-transformer/earth-forecasting-transformer\n"
     ]
    }
   ]
  },
  {
   "cell_type": "code",
   "source": [
    "!python3 -m pip install -q \"pytorch_lightning>=1.6.4,<1.8.0\""
   ],
   "metadata": {
    "colab": {
     "base_uri": "https://localhost:8080/"
    },
    "id": "3Nq41-inOnGz",
    "executionInfo": {
     "status": "ok",
     "timestamp": 1682607606810,
     "user_tz": -180,
     "elapsed": 4657,
     "user": {
      "displayName": "Leah and Ofir",
      "userId": "09975359956858931174"
     }
    },
    "outputId": "8e85f0e2-9377-4a36-bb0f-891bcb86c3d4",
    "pycharm": {
     "name": "#%%\n"
    }
   },
   "execution_count": 25,
   "outputs": [
    {
     "output_type": "stream",
     "name": "stdout",
     "text": [
      "\u001B[?25l     \u001B[90m━━━━━━━━━━━━━━━━━━━━━━━━━━━━━━━━━━━━━━━━\u001B[0m \u001B[32m0.0/708.1 kB\u001B[0m \u001B[31m?\u001B[0m eta \u001B[36m-:--:--\u001B[0m\r\u001B[2K     \u001B[91m━━━━━━━━━━━━━━\u001B[0m\u001B[90m╺\u001B[0m\u001B[90m━━━━━━━━━━━━━━━━━━━━━━━━\u001B[0m \u001B[32m256.0/708.1 kB\u001B[0m \u001B[31m7.5 MB/s\u001B[0m eta \u001B[36m0:00:01\u001B[0m\r\u001B[2K     \u001B[91m━━━━━━━━━━━━━━━━━━━━━━━━━━━━━━━━━━━━━\u001B[0m\u001B[91m╸\u001B[0m \u001B[32m706.6/708.1 kB\u001B[0m \u001B[31m11.1 MB/s\u001B[0m eta \u001B[36m0:00:01\u001B[0m\r\u001B[2K     \u001B[90m━━━━━━━━━━━━━━━━━━━━━━━━━━━━━━━━━━━━━━━\u001B[0m \u001B[32m708.1/708.1 kB\u001B[0m \u001B[31m9.5 MB/s\u001B[0m eta \u001B[36m0:00:00\u001B[0m\n",
      "\u001B[?25h\u001B[33mWARNING: Running pip as the 'root' user can result in broken permissions and conflicting behaviour with the system package manager. It is recommended to use a virtual environment instead: https://pip.pypa.io/warnings/venv\u001B[0m\u001B[33m\n",
      "\u001B[0m"
     ]
    }
   ]
  },
  {
   "cell_type": "code",
   "source": [
    "\n",
    "import warnings\n",
    "import os\n",
    "from omegaconf import OmegaConf\n",
    "import pytest\n",
    "import numpy as np\n",
    "import torch\n",
    "from torch.nn import functional as F\n",
    "import torchmetrics\n",
    "from einops import rearrange\n",
    "from src.earthformer.config import cfg\n",
    "from src.earthformer.utils.checkpoint import s3_download_pretrained_ckpt\n",
    "from src.earthformer.utils.layout import layout_to_in_out_slice\n",
    "from src.earthformer.utils.utils import download\n",
    "from src.earthformer.cuboid_transformer.cuboid_transformer import CuboidTransformerModel\n",
    "from src.earthformer.cuboid_transformer.cuboid_transformer_unet_dec import CuboidTransformerAuxModel"
   ],
   "metadata": {
    "colab": {
     "base_uri": "https://localhost:8080/",
     "height": 520
    },
    "id": "lA_DaWd_MoBF",
    "executionInfo": {
     "status": "error",
     "timestamp": 1682607611622,
     "user_tz": -180,
     "elapsed": 11,
     "user": {
      "displayName": "Leah and Ofir",
      "userId": "09975359956858931174"
     }
    },
    "outputId": "31c74740-eb0d-48c5-fca9-85cc6cd61240",
    "pycharm": {
     "name": "#%%\n"
    }
   },
   "execution_count": 26,
   "outputs": [
    {
     "output_type": "error",
     "ename": "ImportError",
     "evalue": "ignored",
     "traceback": [
      "\u001B[0;31m---------------------------------------------------------------------------\u001B[0m",
      "\u001B[0;31mImportError\u001B[0m                               Traceback (most recent call last)",
      "\u001B[0;32m<ipython-input-26-ecccc95cd4d9>\u001B[0m in \u001B[0;36m<cell line: 11>\u001B[0;34m()\u001B[0m\n\u001B[1;32m      9\u001B[0m \u001B[0;32mfrom\u001B[0m \u001B[0meinops\u001B[0m \u001B[0;32mimport\u001B[0m \u001B[0mrearrange\u001B[0m\u001B[0;34m\u001B[0m\u001B[0;34m\u001B[0m\u001B[0m\n\u001B[1;32m     10\u001B[0m \u001B[0;32mfrom\u001B[0m \u001B[0msrc\u001B[0m\u001B[0;34m.\u001B[0m\u001B[0mearthformer\u001B[0m\u001B[0;34m.\u001B[0m\u001B[0mconfig\u001B[0m \u001B[0;32mimport\u001B[0m \u001B[0mcfg\u001B[0m\u001B[0;34m\u001B[0m\u001B[0;34m\u001B[0m\u001B[0m\n\u001B[0;32m---> 11\u001B[0;31m \u001B[0;32mfrom\u001B[0m \u001B[0msrc\u001B[0m\u001B[0;34m.\u001B[0m\u001B[0mearthformer\u001B[0m\u001B[0;34m.\u001B[0m\u001B[0mutils\u001B[0m\u001B[0;34m.\u001B[0m\u001B[0mcheckpoint\u001B[0m \u001B[0;32mimport\u001B[0m \u001B[0ms3_download_pretrained_ckpt\u001B[0m\u001B[0;34m\u001B[0m\u001B[0;34m\u001B[0m\u001B[0m\n\u001B[0m\u001B[1;32m     12\u001B[0m \u001B[0;32mfrom\u001B[0m \u001B[0msrc\u001B[0m\u001B[0;34m.\u001B[0m\u001B[0mearthformer\u001B[0m\u001B[0;34m.\u001B[0m\u001B[0mutils\u001B[0m\u001B[0;34m.\u001B[0m\u001B[0mlayout\u001B[0m \u001B[0;32mimport\u001B[0m \u001B[0mlayout_to_in_out_slice\u001B[0m\u001B[0;34m\u001B[0m\u001B[0;34m\u001B[0m\u001B[0m\n\u001B[1;32m     13\u001B[0m \u001B[0;32mfrom\u001B[0m \u001B[0msrc\u001B[0m\u001B[0;34m.\u001B[0m\u001B[0mearthformer\u001B[0m\u001B[0;34m.\u001B[0m\u001B[0mutils\u001B[0m\u001B[0;34m.\u001B[0m\u001B[0mutils\u001B[0m \u001B[0;32mimport\u001B[0m \u001B[0mdownload\u001B[0m\u001B[0;34m\u001B[0m\u001B[0;34m\u001B[0m\u001B[0m\n",
      "\u001B[0;32m/content/earth-forecasting-transformer/src/earthformer/utils/checkpoint.py\u001B[0m in \u001B[0;36m<module>\u001B[0;34m\u001B[0m\n\u001B[1;32m      3\u001B[0m \u001B[0;32mfrom\u001B[0m \u001B[0mtyping\u001B[0m \u001B[0;32mimport\u001B[0m \u001B[0mCallable\u001B[0m\u001B[0;34m,\u001B[0m \u001B[0mDict\u001B[0m\u001B[0;34m,\u001B[0m \u001B[0mOptional\u001B[0m\u001B[0;34m,\u001B[0m \u001B[0mUnion\u001B[0m\u001B[0;34m,\u001B[0m \u001B[0mList\u001B[0m\u001B[0;34m\u001B[0m\u001B[0;34m\u001B[0m\u001B[0m\n\u001B[1;32m      4\u001B[0m \u001B[0;32mimport\u001B[0m \u001B[0mtorch\u001B[0m\u001B[0;34m\u001B[0m\u001B[0;34m\u001B[0m\u001B[0m\n\u001B[0;32m----> 5\u001B[0;31m \u001B[0;32mfrom\u001B[0m \u001B[0mpytorch_lightning\u001B[0m\u001B[0;34m.\u001B[0m\u001B[0mutilities\u001B[0m\u001B[0;34m.\u001B[0m\u001B[0mcloud_io\u001B[0m \u001B[0;32mimport\u001B[0m \u001B[0mload\u001B[0m \u001B[0;32mas\u001B[0m \u001B[0mpl_load\u001B[0m\u001B[0;34m\u001B[0m\u001B[0;34m\u001B[0m\u001B[0m\n\u001B[0m\u001B[1;32m      6\u001B[0m \u001B[0;34m\u001B[0m\u001B[0m\n\u001B[1;32m      7\u001B[0m \u001B[0;34m\u001B[0m\u001B[0m\n",
      "\u001B[0;32m/usr/local/lib/python3.9/site-packages/pytorch_lightning/utilities/cloud_io.py\u001B[0m in \u001B[0;36m<module>\u001B[0;34m\u001B[0m\n\u001B[1;32m     23\u001B[0m \u001B[0;32mfrom\u001B[0m \u001B[0mfsspec\u001B[0m\u001B[0;34m.\u001B[0m\u001B[0mimplementations\u001B[0m\u001B[0;34m.\u001B[0m\u001B[0mlocal\u001B[0m \u001B[0;32mimport\u001B[0m \u001B[0mAbstractFileSystem\u001B[0m\u001B[0;34m\u001B[0m\u001B[0;34m\u001B[0m\u001B[0m\n\u001B[1;32m     24\u001B[0m \u001B[0;34m\u001B[0m\u001B[0m\n\u001B[0;32m---> 25\u001B[0;31m \u001B[0;32mfrom\u001B[0m \u001B[0mpytorch_lightning\u001B[0m\u001B[0;34m.\u001B[0m\u001B[0mutilities\u001B[0m\u001B[0;34m.\u001B[0m\u001B[0mtypes\u001B[0m \u001B[0;32mimport\u001B[0m \u001B[0m_PATH\u001B[0m\u001B[0;34m\u001B[0m\u001B[0;34m\u001B[0m\u001B[0m\n\u001B[0m\u001B[1;32m     26\u001B[0m \u001B[0;34m\u001B[0m\u001B[0m\n\u001B[1;32m     27\u001B[0m \u001B[0;34m\u001B[0m\u001B[0m\n",
      "\u001B[0;31mImportError\u001B[0m: cannot import name '_PATH' from 'pytorch_lightning.utilities.types' (/usr/local/lib/python3.9/site-packages/pytorch_lightning/utilities/types.py)",
      "",
      "\u001B[0;31m---------------------------------------------------------------------------\u001B[0;32m\nNOTE: If your import is failing due to a missing package, you can\nmanually install dependencies using either !pip or !apt.\n\nTo view examples of installing some common dependencies, click the\n\"Open Examples\" button below.\n\u001B[0;31m---------------------------------------------------------------------------\u001B[0m\n"
     ],
     "errorDetails": {
      "actions": [
       {
        "action": "open_url",
        "actionText": "Open Examples",
        "url": "/notebooks/snippets/importing_libraries.ipynb"
       }
      ]
     }
    }
   ]
  }
 ]
}