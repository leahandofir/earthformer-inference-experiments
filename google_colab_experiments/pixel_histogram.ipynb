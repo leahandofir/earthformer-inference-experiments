{
  "nbformat": 4,
  "nbformat_minor": 0,
  "metadata": {
    "colab": {
      "provenance": [],
      "authorship_tag": "ABX9TyMcSfaBnN/xZDbKLst0Rfx5",
      "include_colab_link": true
    },
    "kernelspec": {
      "name": "python3",
      "display_name": "Python 3"
    },
    "language_info": {
      "name": "python"
    }
  },
  "cells": [
    {
      "cell_type": "markdown",
      "metadata": {
        "id": "view-in-github",
        "colab_type": "text"
      },
      "source": [
        "<a href=\"https://colab.research.google.com/github/leahandofir/earthformer-inference-experiments/blob/main/google_colab_experiments/pixel_histogram.ipynb\" target=\"_parent\"><img src=\"https://colab.research.google.com/assets/colab-badge.svg\" alt=\"Open In Colab\"/></a>"
      ]
    },
    {
      "cell_type": "code",
      "source": [
        "from google.colab import drive\n",
        "drive.mount('/content/drive')"
      ],
      "metadata": {
        "colab": {
          "base_uri": "https://localhost:8080/"
        },
        "id": "Ys4i1m7Q_WYi",
        "outputId": "a8d66fae-d0a2-47f4-e6c8-ecd7a5489e73"
      },
      "execution_count": 3,
      "outputs": [
        {
          "output_type": "stream",
          "name": "stdout",
          "text": [
            "Mounted at /content/drive\n"
          ]
        }
      ]
    },
    {
      "cell_type": "code",
      "source": [
        "!pip install pypng"
      ],
      "metadata": {
        "colab": {
          "base_uri": "https://localhost:8080/"
        },
        "id": "FMx20TlC_2MX",
        "outputId": "01d06cd0-fa71-4d21-b290-04cbf0c0e1fc"
      },
      "execution_count": 5,
      "outputs": [
        {
          "output_type": "stream",
          "name": "stdout",
          "text": [
            "Installing collected packages: pypng\n",
            "Successfully installed pypng-0.20220715.0\n"
          ]
        }
      ]
    },
    {
      "cell_type": "code",
      "source": [
        "import png\n",
        "import numpy as np\n",
        "import matplotlib.pyplot as plt\n",
        "\n",
        "def get_img(path):\n",
        "  pixels = png.Reader(file=open(path, \"rb\")).asRGBA8()[2]\n",
        "  np_arr = np.array([list(row) for row in pixels]).reshape(600,600,4)\n",
        "  grayscale = 0.299 * np_arr[:,:,0] + 0.587 * np_arr[:,:,1] + 0.114 * np_arr[:,:,2]\n",
        "  return grayscale"
      ],
      "metadata": {
        "id": "l62_yzo-_ZAz"
      },
      "execution_count": 6,
      "outputs": []
    },
    {
      "cell_type": "code",
      "source": [
        "img = get_img(\"/content/drive/MyDrive/data_from_IMS/ims_ir_png_samples/202301010000.png\")"
      ],
      "metadata": {
        "id": "zsGLJZ0H_hru"
      },
      "execution_count": 7,
      "outputs": []
    },
    {
      "cell_type": "code",
      "execution_count": 8,
      "metadata": {
        "colab": {
          "base_uri": "https://localhost:8080/",
          "height": 430
        },
        "id": "3vB-G47u-xlf",
        "outputId": "d0cca65b-418e-42a2-f705-ffb6cd0118d3"
      },
      "outputs": [
        {
          "output_type": "display_data",
          "data": {
            "text/plain": [
              "<Figure size 640x480 with 1 Axes>"
            ],
            "image/png": "[encoded data removed]"
          },
          "metadata": {}
        }
      ],
      "source": [
        "# https://stackoverflow.com/questions/22159160/python-calculate-histogram-of-image\n",
        "import matplotlib.pyplot as plt\n",
        "import cv2\n",
        "\n",
        "im = cv2.imread(\"/content/drive/MyDrive/data_from_IMS/ims_ir_png_samples/202301010000.png\")\n",
        "# calculate mean value from RGB channels and flatten to 1D array\n",
        "vals = im.mean(axis=2).flatten()\n",
        "# plot histogram with 255 bins\n",
        "b, bins, patches = plt.hist(vals, 255)\n",
        "plt.xlim([0,255])\n",
        "plt.show()"
      ]
    },
    {
      "cell_type": "code",
      "source": [],
      "metadata": {
        "id": "62hveiMb_BzH"
      },
      "execution_count": null,
      "outputs": []
    },
    {
      "cell_type": "markdown",
      "source": [
        "google_colab_experiments"
      ],
      "metadata": {
        "id": "uESMcu10_H-i"
      }
    }
  ]
}