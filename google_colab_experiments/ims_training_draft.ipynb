{
  "nbformat": 4,
  "nbformat_minor": 0,
  "metadata": {
    "colab": {
      "provenance": [],
      "machine_shape": "hm",
      "gpuType": "A100",
      "authorship_tag": "ABX9TyNtlB5kBtOJgX0vJDVGjb/V",
      "include_colab_link": true
    },
    "kernelspec": {
      "name": "python3",
      "display_name": "Python 3"
    },
    "language_info": {
      "name": "python"
    },
    "accelerator": "GPU",
    "gpuClass": "standard"
  },
  "cells": [
    {
      "cell_type": "markdown",
      "metadata": {
        "id": "view-in-github",
        "colab_type": "text"
      },
      "source": [
        "<a href=\"https://colab.research.google.com/github/leahandofir/earthformer-inference-experiments/blob/main/google_colab_experiments/ims_training_draft.ipynb\" target=\"_parent\"><img src=\"https://colab.research.google.com/assets/colab-badge.svg\" alt=\"Open In Colab\"/></a>"
      ]
    },
    {
      "cell_type": "code",
      "execution_count": null,
      "metadata": {
        "id": "2rsHR9HMc5x_"
      },
      "outputs": [],
      "source": [
        "!curl 'https://raw.githubusercontent.com/leahandofir/earthformer-inference-experiments/main/google_colab_experiments/prerequisites.sh' -o ./prerequisites.sh\n",
        "!bash ./prerequisites.sh"
      ]
    },
    {
      "cell_type": "code",
      "source": [
        "# download cloudformer repo & cd into its main folder\n",
        "%cd /content\n",
        "!rm -rf /content/cloud-forecasting-transformer\n",
        "!git clone https://github.com/leahandofir/cloud-forecasting-transformer.git\n",
        "%cd cloud-forecasting-transformer"
      ],
      "metadata": {
        "id": "wRHSfPqCn1_R"
      },
      "execution_count": null,
      "outputs": []
    },
    {
      "cell_type": "code",
      "source": [
        "# download dataset and catalog from google drive\n",
        "from google.colab import drive\n",
        "drive.mount('/content/drive')\n",
        "!mkdir /content/cloud-forecasting-transformer/datasets/ims/\n",
        "!cp -r /content/drive/MyDrive/data_from_IMS/ims_data_sample/* /content/cloud-forecasting-transformer/datasets/ims/"
      ],
      "metadata": {
        "colab": {
          "base_uri": "https://localhost:8080/"
        },
        "id": "GCMwr5qpVfeC",
        "outputId": "3c08c620-c62c-4459-89a5-4c610599abab"
      },
      "execution_count": 2,
      "outputs": [
        {
          "output_type": "stream",
          "name": "stdout",
          "text": [
            "Drive already mounted at /content/drive; to attempt to forcibly remount, call drive.mount(\"/content/drive\", force_remount=True).\n"
          ]
        }
      ]
    },
    {
      "cell_type": "code",
      "source": [
        "import pytorch_lightning as pl\n",
        "from src.earthformer.datasets.ims.ims_datamodule import IMSLightningDataModule\n",
        "from scripts.cuboid_transformer.ims.train_cuboid_ims import CuboidIMSModule\n",
        "from datetime import datetime\n",
        "\n",
        "l_model = CuboidIMSModule()\n",
        "\n",
        "dm = IMSLightningDataModule(start_date=datetime(*(2023,1,1)), \n",
        "                            train_val_split_date=datetime(*(2023,1,2)), \n",
        "                            train_test_split_date=datetime(*(2023,1,3)), \n",
        "                            end_date=datetime(*(2023,1,9)), \n",
        "                            seq_len=20)\n",
        "dm.prepare_data()\n",
        "dm.setup()\n",
        "\n",
        "# train model\n",
        "trainer = pl.Trainer(max_epochs=1)\n",
        "trainer.fit(model=l_model, train_dataloaders=dm.train_dataloader())"
      ],
      "metadata": {
        "id": "azAee_xmS-qU"
      },
      "execution_count": null,
      "outputs": []
    }
  ]
}