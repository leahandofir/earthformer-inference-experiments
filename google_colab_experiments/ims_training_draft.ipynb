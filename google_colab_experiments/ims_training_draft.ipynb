{
  "nbformat": 4,
  "nbformat_minor": 0,
  "metadata": {
    "colab": {
      "provenance": [],
      "gpuType": "A100",
      "authorship_tag": "ABX9TyPWiWpsmdaShpYPuiBwxKHk"
    },
    "kernelspec": {
      "name": "python3",
      "display_name": "Python 3"
    },
    "language_info": {
      "name": "python"
    },
    "gpuClass": "standard"
  },
  "cells": [
    {
      "cell_type": "markdown",
      "source": [
        "## prerequisites that do NOT need re-run when runtime restarts"
      ],
      "metadata": {
        "id": "rAFwjpnnhikc"
      }
    },
    {
      "cell_type": "code",
      "execution_count": null,
      "metadata": {
        "id": "2rsHR9HMc5x_"
      },
      "outputs": [],
      "source": [
        "!curl 'https://raw.githubusercontent.com/leahandofir/earthformer-inference-experiments/main/google_colab_experiments/prerequisites.sh' -o ./prerequisites.sh\n",
        "!bash ./prerequisites.sh"
      ]
    },
    {
      "cell_type": "markdown",
      "source": [
        "## prerequisites that DO need re-run when runtime restarts"
      ],
      "metadata": {
        "id": "N_kOO--8h32q"
      }
    },
    {
      "cell_type": "code",
      "source": [
        "# download cloudformer repo & cd into its main folder\n",
        "%cd /content\n",
        "!rm -rf /content/cloud-forecasting-transformer\n",
        "!git clone https://github.com/leahandofir/cloud-forecasting-transformer.git\n",
        "%cd cloud-forecasting-transformer"
      ],
      "metadata": {
        "id": "wRHSfPqCn1_R"
      },
      "execution_count": null,
      "outputs": []
    },
    {
      "cell_type": "code",
      "source": [
        "from google.colab import drive\n",
        "drive.mount('/content/drive')\n",
        "\n",
        "!mkdir /content/cloud-forecasting-transformer/datasets/ims/\n",
        "!cp -r /content/drive/MyDrive/data_from_IMS/ims_data_sample/* /content/cloud-forecasting-transformer/datasets/ims/"
      ],
      "metadata": {
        "id": "GCMwr5qpVfeC"
      },
      "execution_count": null,
      "outputs": []
    },
    {
      "cell_type": "markdown",
      "source": [
        "## Code"
      ],
      "metadata": {
        "id": "g3XvOltOiOYc"
      }
    },
    {
      "cell_type": "code",
      "source": [
        "import pytorch_lightning as pl\n",
        "\n",
        "from src.earthformer.datasets.ims.ims_datamodule import IMSLightningDataModule\n",
        "\n",
        "from scripts.cuboid_transformer.ims.train_cuboid_ims import CuboidIMSModule\n",
        "\n",
        "from datetime import datetime"
      ],
      "metadata": {
        "id": "vT9b36aT3nFa"
      },
      "execution_count": 4,
      "outputs": []
    },
    {
      "cell_type": "code",
      "source": [
        "l_model = CuboidIMSModule(oc_file=\"/content/cloud-forecasting-transformer/scripts/cuboid_transformer/ims/cfg_ims.yaml\")\n",
        "\n",
        "dm = IMSLightningDataModule(start_date=datetime(*(2023,1,1)), \n",
        "                            train_val_split_date=datetime(*(2023,1,2)), \n",
        "                            train_test_split_date=datetime(*(2023,1,3)), \n",
        "                            end_date=datetime(*(2023,1,9)), \n",
        "                            seq_len=20)\n",
        "dm.prepare_data()\n",
        "dm.setup()\n",
        "\n",
        "# train model\n",
        "trainer = pl.Trainer(max_epochs=1)\n",
        "trainer.fit(model=l_model, train_dataloaders=dm.train_dataloader())"
      ],
      "metadata": {
        "id": "2rY11McTsP7f"
      },
      "execution_count": null,
      "outputs": []
    }
  ]
}